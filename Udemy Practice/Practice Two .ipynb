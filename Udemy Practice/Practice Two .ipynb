{
 "cells": [
  {
   "cell_type": "code",
   "execution_count": 17,
   "metadata": {},
   "outputs": [
    {
     "name": "stdout",
     "output_type": "stream",
     "text": [
      "18\n"
     ]
    }
   ],
   "source": [
    "from tkinter import *\n",
    "from gtts import gTTS\n",
    "import vlc\n",
    "try:\n",
    "    fetch = {('add','addition','plus', '+','sum','summation'): '+',\n",
    "         ('subtraction','minus','subduction', '-','diminution','reduce'): '-',\n",
    "         ('multiply','into','multiplication', '*','cross'): '*',\n",
    "         ('division','divide','/', 'upon'): '/',\n",
    "         ('modulus','mod'): '%'}\n",
    "    num1= ''\n",
    "    num2= ''\n",
    "    text = 'multiply 6,3' \n",
    "    text = text.replace(',',' ')\n",
    "    key = text.split(' ')\n",
    "    for x in key:\n",
    "        for j in fetch.keys():\n",
    "            if x in j:\n",
    "                oper=fetch[j]\n",
    "            elif x[0] in '0123456789' and len(num1)==0:\n",
    "                num1=x\n",
    "                break\n",
    "            elif x[0] in '0123456789' and len(num1)!=0 and len(num2)==0:\n",
    "                num2=x\n",
    "                break \n",
    "    caltodo=num1 + oper +num2\n",
    "    ans=eval(caltodo)\n",
    "    print(ans)\n",
    "    \n",
    "except:\n",
    "    print(\"sorry, speak again\")"
   ]
  },
  {
   "cell_type": "code",
   "execution_count": 18,
   "metadata": {},
   "outputs": [
    {
     "data": {
      "text/plain": [
       "0"
      ]
     },
     "execution_count": 18,
     "metadata": {},
     "output_type": "execute_result"
    }
   ],
   "source": [
    "speakans = gTTS(str(ans))\n",
    "speakans.save('Ans.mp3')\n",
    "anspeak  = vlc.MediaPlayer('Ans.mp3')\n",
    "anspeak.play()"
   ]
  },
  {
   "cell_type": "code",
   "execution_count": null,
   "metadata": {},
   "outputs": [],
   "source": []
  }
 ],
 "metadata": {
  "kernelspec": {
   "display_name": "Python 3",
   "language": "python",
   "name": "python3"
  },
  "language_info": {
   "codemirror_mode": {
    "name": "ipython",
    "version": 3
   },
   "file_extension": ".py",
   "mimetype": "text/x-python",
   "name": "python",
   "nbconvert_exporter": "python",
   "pygments_lexer": "ipython3",
   "version": "3.7.4"
  }
 },
 "nbformat": 4,
 "nbformat_minor": 2
}
