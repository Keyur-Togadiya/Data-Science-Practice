{
 "cells": [
  {
   "cell_type": "code",
   "execution_count": 5,
   "metadata": {},
   "outputs": [
    {
     "name": "stdout",
     "output_type": "stream",
     "text": [
      "Enter Coded string : nkieryaulri#p#a#\n",
      "niralipa,keyur###\n"
     ]
    }
   ],
   "source": [
    "\"\"\"\n",
    "String Problem\n",
    "\n",
    "\n",
    "Description\n",
    "In a certain encrypted message which has information about the location(area, city), the characters are jumbled such that \n",
    "first character of the first word is followed by the first character of the second word, then it is followed by second \n",
    "character of the first word and so on\n",
    "\n",
    "In other words, let’s say the location is bandra,mumbai\n",
    "\n",
    "The encrypted message says ‘bmaunmdbraai’.\n",
    "\n",
    "\n",
    "Sample Input:\n",
    "\n",
    "bmaunmdbraai\n",
    "\n",
    "\n",
    "Sample Output:\n",
    "\n",
    "bandra,mumbai\n",
    "\n",
    "\n",
    "Let’s say the size or length of the two words wouldn’t match then the smaller word is appended with # and then \n",
    "encrypted in the above format.\n",
    "\n",
    "With this in mind write a code to identify the right location and print it as place,city.\n",
    "\n",
    "\"\"\"\n",
    "\n",
    "import ast,sys\n",
    "input_str = input(\"Enter Coded string : \")\n",
    "message1=''\n",
    "message2=''\n",
    "for k in enumerate(input_str):\n",
    "    if k[0] % 2 ==0:\n",
    "        message1 = message1 + str(k[1])\n",
    "    else:\n",
    "        message2 = message2 + str(k[1])\n",
    "#message1=message1.rstrip('#')\n",
    "#message2=message2.rstrip('#')\n",
    "print(message1+','+message2)"
   ]
  },
  {
   "cell_type": "code",
   "execution_count": 6,
   "metadata": {},
   "outputs": [
    {
     "name": "stdout",
     "output_type": "stream",
     "text": [
      "Enter Coded string : nkieryaulri#p#a#\n",
      "niralipa,keyur\n"
     ]
    }
   ],
   "source": [
    "import ast,sys\n",
    "input_str = input(\"Enter Coded string : \")\n",
    "message1 = input_str[0:-1:2]\n",
    "message2 = input_str[1:len(input_str):2]\n",
    "print(message1.strip('#') + \",\" + message2.strip('#'))\n"
   ]
  },
  {
   "cell_type": "code",
   "execution_count": 10,
   "metadata": {},
   "outputs": [
    {
     "name": "stdout",
     "output_type": "stream",
     "text": [
      "Enter Coded string : nkieryaulri#p#a#\n"
     ]
    },
    {
     "data": {
      "text/plain": [
       "'kieryaulri#p#a#'"
      ]
     },
     "execution_count": 10,
     "metadata": {},
     "output_type": "execute_result"
    }
   ],
   "source": [
    "input_str = input(\"Enter Coded string : \")\n",
    "message1 = input_str[1:len(input_str)]\n",
    "message1"
   ]
  },
  {
   "cell_type": "code",
   "execution_count": null,
   "metadata": {},
   "outputs": [],
   "source": []
  }
 ],
 "metadata": {
  "kernelspec": {
   "display_name": "Python 3",
   "language": "python",
   "name": "python3"
  },
  "language_info": {
   "codemirror_mode": {
    "name": "ipython",
    "version": 3
   },
   "file_extension": ".py",
   "mimetype": "text/x-python",
   "name": "python",
   "nbconvert_exporter": "python",
   "pygments_lexer": "ipython3",
   "version": "3.7.4"
  }
 },
 "nbformat": 4,
 "nbformat_minor": 2
}
