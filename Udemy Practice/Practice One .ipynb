{
 "cells": [
  {
   "cell_type": "code",
   "execution_count": 1,
   "metadata": {},
   "outputs": [],
   "source": [
    "import numpy as np"
   ]
  },
  {
   "cell_type": "code",
   "execution_count": 6,
   "metadata": {},
   "outputs": [
    {
     "data": {
      "text/plain": [
       "array([ 0,  1,  2,  3,  4,  5,  6,  7,  8,  9, 10, 11, 12, 13, 14, 15, 16,\n",
       "       17, 18, 19])"
      ]
     },
     "execution_count": 6,
     "metadata": {},
     "output_type": "execute_result"
    }
   ],
   "source": [
    "a=np.array(range(0,20))\n",
    "a"
   ]
  },
  {
   "cell_type": "code",
   "execution_count": 7,
   "metadata": {},
   "outputs": [
    {
     "data": {
      "text/plain": [
       "array([[ 0,  1,  2,  3,  4],\n",
       "       [ 5,  6,  7,  8,  9],\n",
       "       [10, 11, 12, 13, 14],\n",
       "       [15, 16, 17, 18, 19]])"
      ]
     },
     "execution_count": 7,
     "metadata": {},
     "output_type": "execute_result"
    }
   ],
   "source": [
    "k= np.reshape(a,(4,5),order='c')\n",
    "k"
   ]
  },
  {
   "cell_type": "code",
   "execution_count": 8,
   "metadata": {},
   "outputs": [
    {
     "data": {
      "text/plain": [
       "array([[ 0,  4,  8, 12, 16],\n",
       "       [ 1,  5,  9, 13, 17],\n",
       "       [ 2,  6, 10, 14, 18],\n",
       "       [ 3,  7, 11, 15, 19]])"
      ]
     },
     "execution_count": 8,
     "metadata": {},
     "output_type": "execute_result"
    }
   ],
   "source": [
    "ka= np.reshape(a,(4,5),'f')\n",
    "ka"
   ]
  },
  {
   "cell_type": "code",
   "execution_count": 9,
   "metadata": {},
   "outputs": [],
   "source": [
    "# Suppose col. of matrix k represents year and rows represents month , to find avg temp in any given month \n",
    "# we need to find value corresponding to that year and month"
   ]
  },
  {
   "cell_type": "code",
   "execution_count": 10,
   "metadata": {},
   "outputs": [],
   "source": [
    "# For easy reteriving of data we makes 2 dictionaries"
   ]
  },
  {
   "cell_type": "code",
   "execution_count": 11,
   "metadata": {},
   "outputs": [],
   "source": [
    "year = {\"2011\": 0, \"2012\": 1, \"2013\": 2, \"2014\": 3, \"2015\": 4}\n",
    "month = {\"Jan\": 0, \"Feb\": 1, \"Mar\": 2, \"Apr\": 3}"
   ]
  },
  {
   "cell_type": "markdown",
   "metadata": {},
   "source": [
    "---"
   ]
  },
  {
   "cell_type": "code",
   "execution_count": 12,
   "metadata": {},
   "outputs": [],
   "source": [
    "# To get avg temp for Mar 2014 we need to manually find out the row and col index if we don't use dictinoiries"
   ]
  },
  {
   "cell_type": "code",
   "execution_count": 13,
   "metadata": {},
   "outputs": [
    {
     "data": {
      "text/plain": [
       "13"
      ]
     },
     "execution_count": 13,
     "metadata": {},
     "output_type": "execute_result"
    }
   ],
   "source": [
    "k[2,3]"
   ]
  },
  {
   "cell_type": "code",
   "execution_count": 14,
   "metadata": {},
   "outputs": [
    {
     "data": {
      "text/plain": [
       "13"
      ]
     },
     "execution_count": 14,
     "metadata": {},
     "output_type": "execute_result"
    }
   ],
   "source": [
    "k[2][3]"
   ]
  },
  {
   "cell_type": "code",
   "execution_count": 15,
   "metadata": {},
   "outputs": [
    {
     "data": {
      "text/plain": [
       "13"
      ]
     },
     "execution_count": 15,
     "metadata": {},
     "output_type": "execute_result"
    }
   ],
   "source": [
    "# Using dictinary\n",
    "k[month['Mar'],year['2014']]"
   ]
  },
  {
   "cell_type": "code",
   "execution_count": 19,
   "metadata": {},
   "outputs": [
    {
     "data": {
      "text/plain": [
       "array([[       nan, 0.25      , 0.25      , 0.25      , 0.25      ],\n",
       "       [5.        , 1.2       , 0.77777778, 0.61538462, 0.52941176],\n",
       "       [5.        , 1.83333333, 1.2       , 0.92857143, 0.77777778],\n",
       "       [5.        , 2.28571429, 1.54545455, 1.2       , 1.        ]])"
      ]
     },
     "execution_count": 19,
     "metadata": {},
     "output_type": "execute_result"
    }
   ],
   "source": [
    "import warnings\n",
    "warnings.filterwarnings('ignore')\n",
    "div = k/ka\n",
    "div"
   ]
  },
  {
   "cell_type": "code",
   "execution_count": 22,
   "metadata": {},
   "outputs": [
    {
     "data": {
      "text/plain": [
       "array([[ nan, 0.25, 0.25, 0.25, 0.25],\n",
       "       [5.  , 1.2 , 0.78, 0.62, 0.53],\n",
       "       [5.  , 1.83, 1.2 , 0.93, 0.78],\n",
       "       [5.  , 2.29, 1.55, 1.2 , 1.  ]])"
      ]
     },
     "execution_count": 22,
     "metadata": {},
     "output_type": "execute_result"
    }
   ],
   "source": [
    "div = np.matrix.round(k/ka,2)\n",
    "div"
   ]
  },
  {
   "cell_type": "code",
   "execution_count": 25,
   "metadata": {},
   "outputs": [
    {
     "data": {
      "text/plain": [
       "[<matplotlib.lines.Line2D at 0x168034f6a48>]"
      ]
     },
     "execution_count": 25,
     "metadata": {},
     "output_type": "execute_result"
    },
    {
     "data": {
      "image/png": "[encoded data removed]",
      "text/plain": [
       "<Figure size 432x288 with 1 Axes>"
      ]
     },
     "metadata": {
      "needs_background": "light"
     },
     "output_type": "display_data"
    }
   ],
   "source": [
    "import matplotlib.pyplot as plt\n",
    "# plt.rcParams['figure.figsize']=size of row, size of col\n",
    "plt.plot(k[1])"
   ]
  },
  {
   "cell_type": "code",
   "execution_count": 28,
   "metadata": {},
   "outputs": [
    {
     "data": {
      "text/plain": [
       "[<matplotlib.lines.Line2D at 0x1680360ba08>]"
      ]
     },
     "execution_count": 28,
     "metadata": {},
     "output_type": "execute_result"
    },
    {
     "data": {
      "image/png": "[encoded data removed]",
      "text/plain": [
       "<Figure size 504x1080 with 1 Axes>"
      ]
     },
     "metadata": {
      "needs_background": "light"
     },
     "output_type": "display_data"
    }
   ],
   "source": [
    "plt.rcParams['figure.figsize']=7,15\n",
    "plt.plot(k[1])"
   ]
  },
  {
   "cell_type": "code",
   "execution_count": 29,
   "metadata": {},
   "outputs": [
    {
     "data": {
      "text/plain": [
       "[<matplotlib.lines.Line2D at 0x168036428c8>]"
      ]
     },
     "execution_count": 29,
     "metadata": {},
     "output_type": "execute_result"
    },
    {
     "data": {
      "image/png": "[encoded data removed]",
      "text/plain": [
       "<Figure size 864x360 with 1 Axes>"
      ]
     },
     "metadata": {
      "needs_background": "light"
     },
     "output_type": "display_data"
    }
   ],
   "source": [
    "plt.rcParams['figure.figsize']=12,5\n",
    "plt.plot(k[1])"
   ]
  },
  {
   "cell_type": "code",
   "execution_count": 26,
   "metadata": {},
   "outputs": [],
   "source": [
    "#Dear Student,\n",
    "#\n",
    "#Welcome to the world of Basketball Data!\n",
    "#I'm sure you will enjoy this section of the Python Programming course.\n",
    "#\n",
    "#Instructions for this dataset:\n",
    "# Simply copy ALL the lines in this script by pressing \n",
    "# CTRL+A on Windows or CMND+A on Mac and run the Jupyter cell\n",
    "# Once you have executed the commands the following objects\n",
    "# will be created:\n",
    "# Matrices:\n",
    "# - Salary\n",
    "# - Games\n",
    "# - MinutesPlayed\n",
    "# - FieldGoals\n",
    "# - FieldGoalAttempts\n",
    "# - Points\n",
    "# Lists:\n",
    "# - Players\n",
    "# - Seasons\n",
    "# Dictionaries:\n",
    "# - Sdict\n",
    "# - Pdict\n",
    "#We will understand these inside the course.\n",
    "#\n",
    "#Sincerely,\n",
    "#Kirill Eremenko\n",
    "#www.superdatascience.com\n",
    "\n",
    "#Copyright: These datasets were prepared using publicly available data.\n",
    "#           However, theses scripts are subject to Copyright Laws. \n",
    "#           If you wish to use these Python scripts outside of the Python Programming Course\n",
    "#           by Kirill Eremenko, you may do so by referencing www.superdatascience.com in your work.\n",
    "\n",
    "#Comments:\n",
    "#Seasons are labeled based on the first year in the season\n",
    "#E.g. the 2012-2013 season is preseneted as simply 2012\n",
    "\n",
    "#Notes and Corrections to the data:\n",
    "#Kevin Durant: 2006 - College Data Used\n",
    "#Kevin Durant: 2005 - Proxied With 2006 Data\n",
    "#Derrick Rose: 2012 - Did Not Play\n",
    "#Derrick Rose: 2007 - College Data Used\n",
    "#Derrick Rose: 2006 - Proxied With 2007 Data\n",
    "#Derrick Rose: 2005 - Proxied With 2007 Data\n",
    "\n",
    "#Import numpy\n",
    "import numpy as np\n",
    "\n",
    "#Seasons\n",
    "Seasons = [\"2005\",\"2006\",\"2007\",\"2008\",\"2009\",\"2010\",\"2011\",\"2012\",\"2013\",\"2014\"]\n",
    "Sdict = {\"2005\":0,\"2006\":1,\"2007\":2,\"2008\":3,\"2009\":4,\"2010\":5,\"2011\":6,\"2012\":7,\"2013\":8,\"2014\":9}\n",
    "\n",
    "#Players\n",
    "Players = [\"KobeBryant\",\"JoeJohnson\",\"LeBronJames\",\"CarmeloAnthony\",\"DwightHoward\",\"ChrisBosh\",\"ChrisPaul\",\"KevinDurant\",\"DerrickRose\",\"DwayneWade\"]\n",
    "Pdict = {\"KobeBryant\":0,\"JoeJohnson\":1,\"LeBronJames\":2,\"CarmeloAnthony\":3,\"DwightHoward\":4,\"ChrisBosh\":5,\"ChrisPaul\":6,\"KevinDurant\":7,\"DerrickRose\":8,\"DwayneWade\":9}\n",
    "\n",
    "#Salaries\n",
    "KobeBryant_Salary = [15946875,17718750,19490625,21262500,23034375,24806250,25244493,27849149,30453805,23500000]\n",
    "JoeJohnson_Salary = [12000000,12744189,13488377,14232567,14976754,16324500,18038573,19752645,21466718,23180790]\n",
    "LeBronJames_Salary = [4621800,5828090,13041250,14410581,15779912,14500000,16022500,17545000,19067500,20644400]\n",
    "CarmeloAnthony_Salary = [3713640,4694041,13041250,14410581,15779912,17149243,18518574,19450000,22407474,22458000]\n",
    "DwightHoward_Salary = [4493160,4806720,6061274,13758000,15202590,16647180,18091770,19536360,20513178,21436271]\n",
    "ChrisBosh_Salary = [3348000,4235220,12455000,14410581,15779912,14500000,16022500,17545000,19067500,20644400]\n",
    "ChrisPaul_Salary = [3144240,3380160,3615960,4574189,13520500,14940153,16359805,17779458,18668431,20068563]\n",
    "KevinDurant_Salary = [0,0,4171200,4484040,4796880,6053663,15506632,16669630,17832627,18995624]\n",
    "DerrickRose_Salary = [0,0,0,4822800,5184480,5546160,6993708,16402500,17632688,18862875]\n",
    "DwayneWade_Salary = [3031920,3841443,13041250,14410581,15779912,14200000,15691000,17182000,18673000,15000000]\n",
    "#Matrix\n",
    "Salary = np.array([KobeBryant_Salary, JoeJohnson_Salary, LeBronJames_Salary, CarmeloAnthony_Salary, DwightHoward_Salary, ChrisBosh_Salary, ChrisPaul_Salary, KevinDurant_Salary, DerrickRose_Salary, DwayneWade_Salary])\n",
    "\n",
    "#Games \n",
    "KobeBryant_G = [80,77,82,82,73,82,58,78,6,35]\n",
    "JoeJohnson_G = [82,57,82,79,76,72,60,72,79,80]\n",
    "LeBronJames_G = [79,78,75,81,76,79,62,76,77,69]\n",
    "CarmeloAnthony_G = [80,65,77,66,69,77,55,67,77,40]\n",
    "DwightHoward_G = [82,82,82,79,82,78,54,76,71,41]\n",
    "ChrisBosh_G = [70,69,67,77,70,77,57,74,79,44]\n",
    "ChrisPaul_G = [78,64,80,78,45,80,60,70,62,82]\n",
    "KevinDurant_G = [35,35,80,74,82,78,66,81,81,27]\n",
    "DerrickRose_G = [40,40,40,81,78,81,39,0,10,51]\n",
    "DwayneWade_G = [75,51,51,79,77,76,49,69,54,62]\n",
    "#Matrix\n",
    "Games = np.array([KobeBryant_G, JoeJohnson_G, LeBronJames_G, CarmeloAnthony_G, DwightHoward_G, ChrisBosh_G, ChrisPaul_G, KevinDurant_G, DerrickRose_G, DwayneWade_G])\n",
    "\n",
    "#Minutes Played\n",
    "KobeBryant_MP = [3277,3140,3192,2960,2835,2779,2232,3013,177,1207]\n",
    "JoeJohnson_MP = [3340,2359,3343,3124,2886,2554,2127,2642,2575,2791]\n",
    "LeBronJames_MP = [3361,3190,3027,3054,2966,3063,2326,2877,2902,2493]\n",
    "CarmeloAnthony_MP = [2941,2486,2806,2277,2634,2751,1876,2482,2982,1428]\n",
    "DwightHoward_MP = [3021,3023,3088,2821,2843,2935,2070,2722,2396,1223]\n",
    "ChrisBosh_MP = [2751,2658,2425,2928,2526,2795,2007,2454,2531,1556]\n",
    "ChrisPaul_MP = [2808,2353,3006,3002,1712,2880,2181,2335,2171,2857]\n",
    "KevinDurant_MP = [1255,1255,2768,2885,3239,3038,2546,3119,3122,913]\n",
    "DerrickRose_MP = [1168,1168,1168,3000,2871,3026,1375,0,311,1530]\n",
    "DwayneWade_MP = [2892,1931,1954,3048,2792,2823,1625,2391,1775,1971]\n",
    "#Matrix\n",
    "MinutesPlayed = np.array([KobeBryant_MP, JoeJohnson_MP, LeBronJames_MP, CarmeloAnthony_MP, DwightHoward_MP, ChrisBosh_MP, ChrisPaul_MP, KevinDurant_MP, DerrickRose_MP, DwayneWade_MP])\n",
    "\n",
    "#Field Goals\n",
    "KobeBryant_FG = [978,813,775,800,716,740,574,738,31,266]\n",
    "JoeJohnson_FG = [632,536,647,620,635,514,423,445,462,446]\n",
    "LeBronJames_FG = [875,772,794,789,768,758,621,765,767,624]\n",
    "CarmeloAnthony_FG = [756,691,728,535,688,684,441,669,743,358]\n",
    "DwightHoward_FG = [468,526,583,560,510,619,416,470,473,251]\n",
    "ChrisBosh_FG = [549,543,507,615,600,524,393,485,492,343]\n",
    "ChrisPaul_FG = [407,381,630,631,314,430,425,412,406,568]\n",
    "KevinDurant_FG = [306,306,587,661,794,711,643,731,849,238]\n",
    "DerrickRose_FG = [208,208,208,574,672,711,302,0,58,338]\n",
    "DwayneWade_FG = [699,472,439,854,719,692,416,569,415,509]\n",
    "#Matrix\n",
    "FieldGoals  = np.array([KobeBryant_FG, JoeJohnson_FG, LeBronJames_FG, CarmeloAnthony_FG, DwightHoward_FG, ChrisBosh_FG, ChrisPaul_FG, KevinDurant_FG, DerrickRose_FG, DwayneWade_FG])\n",
    "\n",
    "#Field Goal Attempts\n",
    "KobeBryant_FGA = [2173,1757,1690,1712,1569,1639,1336,1595,73,713]\n",
    "JoeJohnson_FGA = [1395,1139,1497,1420,1386,1161,931,1052,1018,1025]\n",
    "LeBronJames_FGA = [1823,1621,1642,1613,1528,1485,1169,1354,1353,1279]\n",
    "CarmeloAnthony_FGA = [1572,1453,1481,1207,1502,1503,1025,1489,1643,806]\n",
    "DwightHoward_FGA = [881,873,974,979,834,1044,726,813,800,423]\n",
    "ChrisBosh_FGA = [1087,1094,1027,1263,1158,1056,807,907,953,745]\n",
    "ChrisPaul_FGA = [947,871,1291,1255,637,928,890,856,870,1170]\n",
    "KevinDurant_FGA = [647,647,1366,1390,1668,1538,1297,1433,1688,467]\n",
    "DerrickRose_FGA = [436,436,436,1208,1373,1597,695,0,164,835]\n",
    "DwayneWade_FGA = [1413,962,937,1739,1511,1384,837,1093,761,1084]\n",
    "#Matrix\n",
    "FieldGoalAttempts = np.array([KobeBryant_FGA, JoeJohnson_FGA, LeBronJames_FGA, CarmeloAnthony_FGA, DwightHoward_FGA, ChrisBosh_FGA, ChrisPaul_FGA, KevinDurant_FGA, DerrickRose_FGA, DwayneWade_FGA])\n",
    "\n",
    "#Points\n",
    "KobeBryant_PTS = [2832,2430,2323,2201,1970,2078,1616,2133,83,782]\n",
    "JoeJohnson_PTS = [1653,1426,1779,1688,1619,1312,1129,1170,1245,1154]\n",
    "LeBronJames_PTS = [2478,2132,2250,2304,2258,2111,1683,2036,2089,1743]\n",
    "CarmeloAnthony_PTS = [2122,1881,1978,1504,1943,1970,1245,1920,2112,966]\n",
    "DwightHoward_PTS = [1292,1443,1695,1624,1503,1784,1113,1296,1297,646]\n",
    "ChrisBosh_PTS = [1572,1561,1496,1746,1678,1438,1025,1232,1281,928]\n",
    "ChrisPaul_PTS = [1258,1104,1684,1781,841,1268,1189,1186,1185,1564]\n",
    "KevinDurant_PTS = [903,903,1624,1871,2472,2161,1850,2280,2593,686]\n",
    "DerrickRose_PTS = [597,597,597,1361,1619,2026,852,0,159,904]\n",
    "DwayneWade_PTS = [2040,1397,1254,2386,2045,1941,1082,1463,1028,1331]\n",
    "#Matrix\n",
    "Points = np.array([KobeBryant_PTS, JoeJohnson_PTS, LeBronJames_PTS, CarmeloAnthony_PTS, DwightHoward_PTS, ChrisBosh_PTS, ChrisPaul_PTS, KevinDurant_PTS, DerrickRose_PTS, DwayneWade_PTS])             \n",
    "                  \n"
   ]
  },
  {
   "cell_type": "code",
   "execution_count": 38,
   "metadata": {},
   "outputs": [
    {
     "data": {
      "image/png": "[encoded data removed]",
      "text/plain": [
       "<Figure size 1008x648 with 1 Axes>"
      ]
     },
     "metadata": {
      "needs_background": "light"
     },
     "output_type": "display_data"
    }
   ],
   "source": [
    "import warnings\n",
    "warnings.filterwarnings('ignore')\n",
    "import matplotlib.pyplot as plt\n",
    "\n",
    "color = {\"KobeBryant\": 'yellow',\"JoeJohnson\": 'blue',\"LeBronJames\": 'red',\"CarmeloAnthony\":'green',\"DwightHoward\":'black',\n",
    "         \"ChrisBosh\":'pink', \"ChrisPaul\":'orange',\"KevinDurant\":'grey',\"DerrickRose\": 'indigo',\"DwayneWade\": 'purple'}\n",
    "\n",
    "mar = {\"KobeBryant\":'d',\"JoeJohnson\":'s',\"LeBronJames\":'|',\"CarmeloAnthony\":'8',\"DwightHoward\":'o',\"ChrisBosh\":'^',\n",
    "          \"ChrisPaul\":'d',\"KevinDurant\":'D',\"DerrickRose\":'4',\"DwayneWade\":'^'}\n",
    "\n",
    "def Graph(datamat, Playerlist=Players ):\n",
    "    for i in Playerlist:\n",
    "        plt.plot(datamat[Pdict[i]], c=color[i], ls='--',marker= mar[i], ms=7,label=i)\n",
    "    plt.legend(loc=\"upper right\")\n",
    "    plt.xticks(list(range(0,9)),Seasons)\n",
    "    plt.yticks(list(range(0,100,20)),['A','B','C','D','E','F'])\n",
    "    plt.rcParams['figure.figsize']=14,9\n",
    "    plt.show()\n",
    "    \n",
    "Graph(Points/Games)    "
   ]
  },
  {
   "cell_type": "code",
   "execution_count": 35,
   "metadata": {},
   "outputs": [
    {
     "data": {
      "image/png": "[encoded data removed]",
      "text/plain": [
       "<Figure size 1008x648 with 1 Axes>"
      ]
     },
     "metadata": {
      "needs_background": "light"
     },
     "output_type": "display_data"
    }
   ],
   "source": [
    "import warnings\n",
    "warnings.filterwarnings('ignore')\n",
    "\n",
    "import matplotlib.pyplot as plt\n",
    "import numpy as np\n",
    "\n",
    "def Draw(Mat1,Mat2,Mat=Salary,Name=Players):\n",
    "    color = {\"KobeBryant\": 'yellow',\"JoeJohnson\": 'blue',\"LeBronJames\": 'red',\"CarmeloAnthony\":'green',\"DwightHoward\":'black',\n",
    "         \"ChrisBosh\":'pink', \"ChrisPaul\":'orange',\"KevinDurant\":'grey',\"DerrickRose\": 'indigo',\"DwayneWade\": 'purple'}\n",
    "\n",
    "    mar = {\"KobeBryant\":'d',\"JoeJohnson\":'s',\"LeBronJames\":'|',\"CarmeloAnthony\":'8',\"DwightHoward\":'o',\"ChrisBosh\":'^',\n",
    "          \"ChrisPaul\":'d',\"KevinDurant\":'D',\"DerrickRose\":'4',\"DwayneWade\":'^'}\n",
    "    for i in Name:\n",
    "        plt.plot(np.matrix.round(Mat1[Pdict[i]]/Mat2[Pdict[i]]+Mat[Pdict[i]]), c=color[i], ls='-', marker=mar[i], ms=7, label=i)\n",
    "    plt.legend(loc='upper right')\n",
    "    plt.show()\n",
    "    \n",
    "Draw(Points,Games)"
   ]
  },
  {
   "cell_type": "code",
   "execution_count": 2,
   "metadata": {},
   "outputs": [],
   "source": [
    "# Exploratory analysis\n",
    "import pandas as pd"
   ]
  },
  {
   "cell_type": "code",
   "execution_count": 3,
   "metadata": {},
   "outputs": [],
   "source": [
    "ballteam = pd.read_csv(\"data.csv\")"
   ]
  },
  {
   "cell_type": "code",
   "execution_count": 4,
   "metadata": {},
   "outputs": [
    {
     "data": {
      "text/html": [
       "<div>\n",
       "<style scoped>\n",
       "    .dataframe tbody tr th:only-of-type {\n",
       "        vertical-align: middle;\n",
       "    }\n",
       "\n",
       "    .dataframe tbody tr th {\n",
       "        vertical-align: top;\n",
       "    }\n",
       "\n",
       "    .dataframe thead th {\n",
       "        text-align: right;\n",
       "    }\n",
       "</style>\n",
       "<table border=\"1\" class=\"dataframe\">\n",
       "  <thead>\n",
       "    <tr style=\"text-align: right;\">\n",
       "      <th></th>\n",
       "      <th>area_id</th>\n",
       "      <th>variable_id</th>\n",
       "      <th>year</th>\n",
       "      <th>value</th>\n",
       "      <th>symbol</th>\n",
       "      <th>md</th>\n",
       "      <th>area</th>\n",
       "      <th>variable_name</th>\n",
       "    </tr>\n",
       "  </thead>\n",
       "  <tbody>\n",
       "    <tr>\n",
       "      <td>0</td>\n",
       "      <td>4</td>\n",
       "      <td>4250</td>\n",
       "      <td>2012</td>\n",
       "      <td>4.990</td>\n",
       "      <td>I</td>\n",
       "      <td>[1]</td>\n",
       "      <td>Algeria</td>\n",
       "      <td>Agricultural water withdrawal</td>\n",
       "    </tr>\n",
       "    <tr>\n",
       "      <td>1</td>\n",
       "      <td>4</td>\n",
       "      <td>4252</td>\n",
       "      <td>2012</td>\n",
       "      <td>0.415</td>\n",
       "      <td>I</td>\n",
       "      <td>[2]</td>\n",
       "      <td>Algeria</td>\n",
       "      <td>Industrial water withdrawal</td>\n",
       "    </tr>\n",
       "    <tr>\n",
       "      <td>2</td>\n",
       "      <td>4</td>\n",
       "      <td>4251</td>\n",
       "      <td>2012</td>\n",
       "      <td>3.020</td>\n",
       "      <td>I</td>\n",
       "      <td>[3]</td>\n",
       "      <td>Algeria</td>\n",
       "      <td>Municipal water withdrawal</td>\n",
       "    </tr>\n",
       "    <tr>\n",
       "      <td>3</td>\n",
       "      <td>4</td>\n",
       "      <td>4253</td>\n",
       "      <td>2012</td>\n",
       "      <td>8.425</td>\n",
       "      <td>I</td>\n",
       "      <td>NaN</td>\n",
       "      <td>Algeria</td>\n",
       "      <td>Total water withdrawal</td>\n",
       "    </tr>\n",
       "    <tr>\n",
       "      <td>4</td>\n",
       "      <td>4</td>\n",
       "      <td>4257</td>\n",
       "      <td>2012</td>\n",
       "      <td>225.000</td>\n",
       "      <td>K</td>\n",
       "      <td>NaN</td>\n",
       "      <td>Algeria</td>\n",
       "      <td>Total water withdrawal per capita</td>\n",
       "    </tr>\n",
       "    <tr>\n",
       "      <td>...</td>\n",
       "      <td>...</td>\n",
       "      <td>...</td>\n",
       "      <td>...</td>\n",
       "      <td>...</td>\n",
       "      <td>...</td>\n",
       "      <td>...</td>\n",
       "      <td>...</td>\n",
       "      <td>...</td>\n",
       "    </tr>\n",
       "    <tr>\n",
       "      <td>894</td>\n",
       "      <td>156</td>\n",
       "      <td>4250</td>\n",
       "      <td>2010</td>\n",
       "      <td>3.207</td>\n",
       "      <td>E</td>\n",
       "      <td>[126]</td>\n",
       "      <td>New Zealand</td>\n",
       "      <td>Agricultural water withdrawal</td>\n",
       "    </tr>\n",
       "    <tr>\n",
       "      <td>895</td>\n",
       "      <td>156</td>\n",
       "      <td>4252</td>\n",
       "      <td>2010</td>\n",
       "      <td>1.184</td>\n",
       "      <td>E</td>\n",
       "      <td>NaN</td>\n",
       "      <td>New Zealand</td>\n",
       "      <td>Industrial water withdrawal</td>\n",
       "    </tr>\n",
       "    <tr>\n",
       "      <td>896</td>\n",
       "      <td>156</td>\n",
       "      <td>4251</td>\n",
       "      <td>2010</td>\n",
       "      <td>0.810</td>\n",
       "      <td>E</td>\n",
       "      <td>[127]</td>\n",
       "      <td>New Zealand</td>\n",
       "      <td>Municipal water withdrawal</td>\n",
       "    </tr>\n",
       "    <tr>\n",
       "      <td>897</td>\n",
       "      <td>156</td>\n",
       "      <td>4253</td>\n",
       "      <td>2010</td>\n",
       "      <td>5.201</td>\n",
       "      <td>E</td>\n",
       "      <td>NaN</td>\n",
       "      <td>New Zealand</td>\n",
       "      <td>Total water withdrawal</td>\n",
       "    </tr>\n",
       "    <tr>\n",
       "      <td>898</td>\n",
       "      <td>156</td>\n",
       "      <td>4257</td>\n",
       "      <td>2010</td>\n",
       "      <td>1172.000</td>\n",
       "      <td>E</td>\n",
       "      <td>NaN</td>\n",
       "      <td>New Zealand</td>\n",
       "      <td>Total water withdrawal per capita</td>\n",
       "    </tr>\n",
       "  </tbody>\n",
       "</table>\n",
       "<p>899 rows × 8 columns</p>\n",
       "</div>"
      ],
      "text/plain": [
       "     area_id  variable_id  year     value symbol     md         area  \\\n",
       "0          4         4250  2012     4.990      I    [1]      Algeria   \n",
       "1          4         4252  2012     0.415      I    [2]      Algeria   \n",
       "2          4         4251  2012     3.020      I    [3]      Algeria   \n",
       "3          4         4253  2012     8.425      I    NaN      Algeria   \n",
       "4          4         4257  2012   225.000      K    NaN      Algeria   \n",
       "..       ...          ...   ...       ...    ...    ...          ...   \n",
       "894      156         4250  2010     3.207      E  [126]  New Zealand   \n",
       "895      156         4252  2010     1.184      E    NaN  New Zealand   \n",
       "896      156         4251  2010     0.810      E  [127]  New Zealand   \n",
       "897      156         4253  2010     5.201      E    NaN  New Zealand   \n",
       "898      156         4257  2010  1172.000      E    NaN  New Zealand   \n",
       "\n",
       "                         variable_name  \n",
       "0        Agricultural water withdrawal  \n",
       "1          Industrial water withdrawal  \n",
       "2           Municipal water withdrawal  \n",
       "3               Total water withdrawal  \n",
       "4    Total water withdrawal per capita  \n",
       "..                                 ...  \n",
       "894      Agricultural water withdrawal  \n",
       "895        Industrial water withdrawal  \n",
       "896         Municipal water withdrawal  \n",
       "897             Total water withdrawal  \n",
       "898  Total water withdrawal per capita  \n",
       "\n",
       "[899 rows x 8 columns]"
      ]
     },
     "execution_count": 4,
     "metadata": {},
     "output_type": "execute_result"
    }
   ],
   "source": [
    "ballteam"
   ]
  },
  {
   "cell_type": "code",
   "execution_count": 5,
   "metadata": {},
   "outputs": [
    {
     "data": {
      "text/plain": [
       "899"
      ]
     },
     "execution_count": 5,
     "metadata": {},
     "output_type": "execute_result"
    }
   ],
   "source": [
    "len (ballteam) # 899 rows imported "
   ]
  },
  {
   "cell_type": "code",
   "execution_count": 7,
   "metadata": {},
   "outputs": [
    {
     "data": {
      "text/plain": [
       "Index(['area_id', 'variable_id', 'year', 'value', 'symbol', 'md', 'area',\n",
       "       'variable_name'],\n",
       "      dtype='object')"
      ]
     },
     "execution_count": 7,
     "metadata": {},
     "output_type": "execute_result"
    }
   ],
   "source": [
    "ballteam.columns"
   ]
  },
  {
   "cell_type": "code",
   "execution_count": 8,
   "metadata": {},
   "outputs": [
    {
     "data": {
      "text/plain": [
       "8"
      ]
     },
     "execution_count": 8,
     "metadata": {},
     "output_type": "execute_result"
    }
   ],
   "source": [
    "len(ballteam.columns)"
   ]
  },
  {
   "cell_type": "code",
   "execution_count": 9,
   "metadata": {},
   "outputs": [
    {
     "name": "stdout",
     "output_type": "stream",
     "text": [
      "<class 'pandas.core.frame.DataFrame'>\n",
      "RangeIndex: 899 entries, 0 to 898\n",
      "Data columns (total 8 columns):\n",
      "area_id          899 non-null int64\n",
      "variable_id      899 non-null int64\n",
      "year             899 non-null int64\n",
      "value            899 non-null float64\n",
      "symbol           578 non-null object\n",
      "md               113 non-null object\n",
      "area             899 non-null object\n",
      "variable_name    899 non-null object\n",
      "dtypes: float64(1), int64(3), object(4)\n",
      "memory usage: 56.3+ KB\n"
     ]
    }
   ],
   "source": [
    "ballteam.info()"
   ]
  },
  {
   "cell_type": "code",
   "execution_count": 10,
   "metadata": {},
   "outputs": [
    {
     "data": {
      "text/html": [
       "<div>\n",
       "<style scoped>\n",
       "    .dataframe tbody tr th:only-of-type {\n",
       "        vertical-align: middle;\n",
       "    }\n",
       "\n",
       "    .dataframe tbody tr th {\n",
       "        vertical-align: top;\n",
       "    }\n",
       "\n",
       "    .dataframe thead th {\n",
       "        text-align: right;\n",
       "    }\n",
       "</style>\n",
       "<table border=\"1\" class=\"dataframe\">\n",
       "  <thead>\n",
       "    <tr style=\"text-align: right;\">\n",
       "      <th></th>\n",
       "      <th>area_id</th>\n",
       "      <th>variable_id</th>\n",
       "      <th>year</th>\n",
       "      <th>value</th>\n",
       "    </tr>\n",
       "  </thead>\n",
       "  <tbody>\n",
       "    <tr>\n",
       "      <td>count</td>\n",
       "      <td>899.000000</td>\n",
       "      <td>899.000000</td>\n",
       "      <td>899.000000</td>\n",
       "      <td>899.000000</td>\n",
       "    </tr>\n",
       "    <tr>\n",
       "      <td>mean</td>\n",
       "      <td>130.487208</td>\n",
       "      <td>4252.609566</td>\n",
       "      <td>2007.142380</td>\n",
       "      <td>106.689934</td>\n",
       "    </tr>\n",
       "    <tr>\n",
       "      <td>std</td>\n",
       "      <td>76.219080</td>\n",
       "      <td>2.422049</td>\n",
       "      <td>4.838802</td>\n",
       "      <td>333.192434</td>\n",
       "    </tr>\n",
       "    <tr>\n",
       "      <td>min</td>\n",
       "      <td>1.000000</td>\n",
       "      <td>4250.000000</td>\n",
       "      <td>1975.000000</td>\n",
       "      <td>0.000000</td>\n",
       "    </tr>\n",
       "    <tr>\n",
       "      <td>25%</td>\n",
       "      <td>64.500000</td>\n",
       "      <td>4251.000000</td>\n",
       "      <td>2005.000000</td>\n",
       "      <td>0.149950</td>\n",
       "    </tr>\n",
       "    <tr>\n",
       "      <td>50%</td>\n",
       "      <td>129.000000</td>\n",
       "      <td>4252.000000</td>\n",
       "      <td>2007.000000</td>\n",
       "      <td>1.267000</td>\n",
       "    </tr>\n",
       "    <tr>\n",
       "      <td>75%</td>\n",
       "      <td>194.000000</td>\n",
       "      <td>4253.000000</td>\n",
       "      <td>2011.000000</td>\n",
       "      <td>28.575000</td>\n",
       "    </tr>\n",
       "    <tr>\n",
       "      <td>max</td>\n",
       "      <td>351.000000</td>\n",
       "      <td>4257.000000</td>\n",
       "      <td>2016.000000</td>\n",
       "      <td>5753.000000</td>\n",
       "    </tr>\n",
       "  </tbody>\n",
       "</table>\n",
       "</div>"
      ],
      "text/plain": [
       "          area_id  variable_id         year        value\n",
       "count  899.000000   899.000000   899.000000   899.000000\n",
       "mean   130.487208  4252.609566  2007.142380   106.689934\n",
       "std     76.219080     2.422049     4.838802   333.192434\n",
       "min      1.000000  4250.000000  1975.000000     0.000000\n",
       "25%     64.500000  4251.000000  2005.000000     0.149950\n",
       "50%    129.000000  4252.000000  2007.000000     1.267000\n",
       "75%    194.000000  4253.000000  2011.000000    28.575000\n",
       "max    351.000000  4257.000000  2016.000000  5753.000000"
      ]
     },
     "execution_count": 10,
     "metadata": {},
     "output_type": "execute_result"
    }
   ],
   "source": [
    "ballteam.describe()"
   ]
  },
  {
   "cell_type": "code",
   "execution_count": 11,
   "metadata": {},
   "outputs": [
    {
     "data": {
      "text/html": [
       "<div>\n",
       "<style scoped>\n",
       "    .dataframe tbody tr th:only-of-type {\n",
       "        vertical-align: middle;\n",
       "    }\n",
       "\n",
       "    .dataframe tbody tr th {\n",
       "        vertical-align: top;\n",
       "    }\n",
       "\n",
       "    .dataframe thead th {\n",
       "        text-align: right;\n",
       "    }\n",
       "</style>\n",
       "<table border=\"1\" class=\"dataframe\">\n",
       "  <thead>\n",
       "    <tr style=\"text-align: right;\">\n",
       "      <th></th>\n",
       "      <th>area_id</th>\n",
       "      <th>variable_id</th>\n",
       "      <th>year</th>\n",
       "      <th>value</th>\n",
       "      <th>symbol</th>\n",
       "      <th>md</th>\n",
       "      <th>area</th>\n",
       "      <th>variable_name</th>\n",
       "    </tr>\n",
       "  </thead>\n",
       "  <tbody>\n",
       "    <tr>\n",
       "      <td>0</td>\n",
       "      <td>4</td>\n",
       "      <td>4250</td>\n",
       "      <td>2012</td>\n",
       "      <td>4.9900</td>\n",
       "      <td>I</td>\n",
       "      <td>[1]</td>\n",
       "      <td>Algeria</td>\n",
       "      <td>Agricultural water withdrawal</td>\n",
       "    </tr>\n",
       "    <tr>\n",
       "      <td>1</td>\n",
       "      <td>4</td>\n",
       "      <td>4252</td>\n",
       "      <td>2012</td>\n",
       "      <td>0.4150</td>\n",
       "      <td>I</td>\n",
       "      <td>[2]</td>\n",
       "      <td>Algeria</td>\n",
       "      <td>Industrial water withdrawal</td>\n",
       "    </tr>\n",
       "    <tr>\n",
       "      <td>2</td>\n",
       "      <td>4</td>\n",
       "      <td>4251</td>\n",
       "      <td>2012</td>\n",
       "      <td>3.0200</td>\n",
       "      <td>I</td>\n",
       "      <td>[3]</td>\n",
       "      <td>Algeria</td>\n",
       "      <td>Municipal water withdrawal</td>\n",
       "    </tr>\n",
       "    <tr>\n",
       "      <td>3</td>\n",
       "      <td>4</td>\n",
       "      <td>4253</td>\n",
       "      <td>2012</td>\n",
       "      <td>8.4250</td>\n",
       "      <td>I</td>\n",
       "      <td>NaN</td>\n",
       "      <td>Algeria</td>\n",
       "      <td>Total water withdrawal</td>\n",
       "    </tr>\n",
       "    <tr>\n",
       "      <td>4</td>\n",
       "      <td>4</td>\n",
       "      <td>4257</td>\n",
       "      <td>2012</td>\n",
       "      <td>225.0000</td>\n",
       "      <td>K</td>\n",
       "      <td>NaN</td>\n",
       "      <td>Algeria</td>\n",
       "      <td>Total water withdrawal per capita</td>\n",
       "    </tr>\n",
       "    <tr>\n",
       "      <td>5</td>\n",
       "      <td>7</td>\n",
       "      <td>4250</td>\n",
       "      <td>2005</td>\n",
       "      <td>0.1467</td>\n",
       "      <td>L</td>\n",
       "      <td>[4]</td>\n",
       "      <td>Angola</td>\n",
       "      <td>Agricultural water withdrawal</td>\n",
       "    </tr>\n",
       "    <tr>\n",
       "      <td>6</td>\n",
       "      <td>7</td>\n",
       "      <td>4252</td>\n",
       "      <td>2005</td>\n",
       "      <td>0.2396</td>\n",
       "      <td>L</td>\n",
       "      <td>NaN</td>\n",
       "      <td>Angola</td>\n",
       "      <td>Industrial water withdrawal</td>\n",
       "    </tr>\n",
       "    <tr>\n",
       "      <td>7</td>\n",
       "      <td>7</td>\n",
       "      <td>4251</td>\n",
       "      <td>2005</td>\n",
       "      <td>0.3195</td>\n",
       "      <td>L</td>\n",
       "      <td>NaN</td>\n",
       "      <td>Angola</td>\n",
       "      <td>Municipal water withdrawal</td>\n",
       "    </tr>\n",
       "    <tr>\n",
       "      <td>8</td>\n",
       "      <td>7</td>\n",
       "      <td>4253</td>\n",
       "      <td>2005</td>\n",
       "      <td>0.7058</td>\n",
       "      <td>L</td>\n",
       "      <td>NaN</td>\n",
       "      <td>Angola</td>\n",
       "      <td>Total water withdrawal</td>\n",
       "    </tr>\n",
       "    <tr>\n",
       "      <td>9</td>\n",
       "      <td>7</td>\n",
       "      <td>4257</td>\n",
       "      <td>2005</td>\n",
       "      <td>36.7900</td>\n",
       "      <td>K</td>\n",
       "      <td>NaN</td>\n",
       "      <td>Angola</td>\n",
       "      <td>Total water withdrawal per capita</td>\n",
       "    </tr>\n",
       "  </tbody>\n",
       "</table>\n",
       "</div>"
      ],
      "text/plain": [
       "   area_id  variable_id  year     value symbol   md     area  \\\n",
       "0        4         4250  2012    4.9900      I  [1]  Algeria   \n",
       "1        4         4252  2012    0.4150      I  [2]  Algeria   \n",
       "2        4         4251  2012    3.0200      I  [3]  Algeria   \n",
       "3        4         4253  2012    8.4250      I  NaN  Algeria   \n",
       "4        4         4257  2012  225.0000      K  NaN  Algeria   \n",
       "5        7         4250  2005    0.1467      L  [4]   Angola   \n",
       "6        7         4252  2005    0.2396      L  NaN   Angola   \n",
       "7        7         4251  2005    0.3195      L  NaN   Angola   \n",
       "8        7         4253  2005    0.7058      L  NaN   Angola   \n",
       "9        7         4257  2005   36.7900      K  NaN   Angola   \n",
       "\n",
       "                       variable_name  \n",
       "0      Agricultural water withdrawal  \n",
       "1        Industrial water withdrawal  \n",
       "2         Municipal water withdrawal  \n",
       "3             Total water withdrawal  \n",
       "4  Total water withdrawal per capita  \n",
       "5      Agricultural water withdrawal  \n",
       "6        Industrial water withdrawal  \n",
       "7         Municipal water withdrawal  \n",
       "8             Total water withdrawal  \n",
       "9  Total water withdrawal per capita  "
      ]
     },
     "execution_count": 11,
     "metadata": {},
     "output_type": "execute_result"
    }
   ],
   "source": [
    "ballteam.head(10)"
   ]
  },
  {
   "cell_type": "code",
   "execution_count": 12,
   "metadata": {},
   "outputs": [
    {
     "data": {
      "text/html": [
       "<div>\n",
       "<style scoped>\n",
       "    .dataframe tbody tr th:only-of-type {\n",
       "        vertical-align: middle;\n",
       "    }\n",
       "\n",
       "    .dataframe tbody tr th {\n",
       "        vertical-align: top;\n",
       "    }\n",
       "\n",
       "    .dataframe thead th {\n",
       "        text-align: right;\n",
       "    }\n",
       "</style>\n",
       "<table border=\"1\" class=\"dataframe\">\n",
       "  <thead>\n",
       "    <tr style=\"text-align: right;\">\n",
       "      <th></th>\n",
       "      <th>area_id</th>\n",
       "      <th>variable_id</th>\n",
       "      <th>year</th>\n",
       "      <th>value</th>\n",
       "      <th>symbol</th>\n",
       "      <th>md</th>\n",
       "      <th>area</th>\n",
       "      <th>variable_name</th>\n",
       "    </tr>\n",
       "  </thead>\n",
       "  <tbody>\n",
       "    <tr>\n",
       "      <td>892</td>\n",
       "      <td>66</td>\n",
       "      <td>4253</td>\n",
       "      <td>2005</td>\n",
       "      <td>0.0849</td>\n",
       "      <td>I</td>\n",
       "      <td>NaN</td>\n",
       "      <td>Fiji</td>\n",
       "      <td>Total water withdrawal</td>\n",
       "    </tr>\n",
       "    <tr>\n",
       "      <td>893</td>\n",
       "      <td>66</td>\n",
       "      <td>4257</td>\n",
       "      <td>2005</td>\n",
       "      <td>101.7000</td>\n",
       "      <td>K</td>\n",
       "      <td>NaN</td>\n",
       "      <td>Fiji</td>\n",
       "      <td>Total water withdrawal per capita</td>\n",
       "    </tr>\n",
       "    <tr>\n",
       "      <td>894</td>\n",
       "      <td>156</td>\n",
       "      <td>4250</td>\n",
       "      <td>2010</td>\n",
       "      <td>3.2070</td>\n",
       "      <td>E</td>\n",
       "      <td>[126]</td>\n",
       "      <td>New Zealand</td>\n",
       "      <td>Agricultural water withdrawal</td>\n",
       "    </tr>\n",
       "    <tr>\n",
       "      <td>895</td>\n",
       "      <td>156</td>\n",
       "      <td>4252</td>\n",
       "      <td>2010</td>\n",
       "      <td>1.1840</td>\n",
       "      <td>E</td>\n",
       "      <td>NaN</td>\n",
       "      <td>New Zealand</td>\n",
       "      <td>Industrial water withdrawal</td>\n",
       "    </tr>\n",
       "    <tr>\n",
       "      <td>896</td>\n",
       "      <td>156</td>\n",
       "      <td>4251</td>\n",
       "      <td>2010</td>\n",
       "      <td>0.8100</td>\n",
       "      <td>E</td>\n",
       "      <td>[127]</td>\n",
       "      <td>New Zealand</td>\n",
       "      <td>Municipal water withdrawal</td>\n",
       "    </tr>\n",
       "    <tr>\n",
       "      <td>897</td>\n",
       "      <td>156</td>\n",
       "      <td>4253</td>\n",
       "      <td>2010</td>\n",
       "      <td>5.2010</td>\n",
       "      <td>E</td>\n",
       "      <td>NaN</td>\n",
       "      <td>New Zealand</td>\n",
       "      <td>Total water withdrawal</td>\n",
       "    </tr>\n",
       "    <tr>\n",
       "      <td>898</td>\n",
       "      <td>156</td>\n",
       "      <td>4257</td>\n",
       "      <td>2010</td>\n",
       "      <td>1172.0000</td>\n",
       "      <td>E</td>\n",
       "      <td>NaN</td>\n",
       "      <td>New Zealand</td>\n",
       "      <td>Total water withdrawal per capita</td>\n",
       "    </tr>\n",
       "  </tbody>\n",
       "</table>\n",
       "</div>"
      ],
      "text/plain": [
       "     area_id  variable_id  year      value symbol     md         area  \\\n",
       "892       66         4253  2005     0.0849      I    NaN         Fiji   \n",
       "893       66         4257  2005   101.7000      K    NaN         Fiji   \n",
       "894      156         4250  2010     3.2070      E  [126]  New Zealand   \n",
       "895      156         4252  2010     1.1840      E    NaN  New Zealand   \n",
       "896      156         4251  2010     0.8100      E  [127]  New Zealand   \n",
       "897      156         4253  2010     5.2010      E    NaN  New Zealand   \n",
       "898      156         4257  2010  1172.0000      E    NaN  New Zealand   \n",
       "\n",
       "                         variable_name  \n",
       "892             Total water withdrawal  \n",
       "893  Total water withdrawal per capita  \n",
       "894      Agricultural water withdrawal  \n",
       "895        Industrial water withdrawal  \n",
       "896         Municipal water withdrawal  \n",
       "897             Total water withdrawal  \n",
       "898  Total water withdrawal per capita  "
      ]
     },
     "execution_count": 12,
     "metadata": {},
     "output_type": "execute_result"
    }
   ],
   "source": [
    "ballteam.tail(7)"
   ]
  },
  {
   "cell_type": "code",
   "execution_count": 13,
   "metadata": {},
   "outputs": [
    {
     "data": {
      "text/html": [
       "<div>\n",
       "<style scoped>\n",
       "    .dataframe tbody tr th:only-of-type {\n",
       "        vertical-align: middle;\n",
       "    }\n",
       "\n",
       "    .dataframe tbody tr th {\n",
       "        vertical-align: top;\n",
       "    }\n",
       "\n",
       "    .dataframe thead th {\n",
       "        text-align: right;\n",
       "    }\n",
       "</style>\n",
       "<table border=\"1\" class=\"dataframe\">\n",
       "  <thead>\n",
       "    <tr style=\"text-align: right;\">\n",
       "      <th></th>\n",
       "      <th>count</th>\n",
       "      <th>mean</th>\n",
       "      <th>std</th>\n",
       "      <th>min</th>\n",
       "      <th>25%</th>\n",
       "      <th>50%</th>\n",
       "      <th>75%</th>\n",
       "      <th>max</th>\n",
       "    </tr>\n",
       "  </thead>\n",
       "  <tbody>\n",
       "    <tr>\n",
       "      <td>area_id</td>\n",
       "      <td>899.0</td>\n",
       "      <td>130.487208</td>\n",
       "      <td>76.219080</td>\n",
       "      <td>1.0</td>\n",
       "      <td>64.50000</td>\n",
       "      <td>129.000</td>\n",
       "      <td>194.000</td>\n",
       "      <td>351.0</td>\n",
       "    </tr>\n",
       "    <tr>\n",
       "      <td>variable_id</td>\n",
       "      <td>899.0</td>\n",
       "      <td>4252.609566</td>\n",
       "      <td>2.422049</td>\n",
       "      <td>4250.0</td>\n",
       "      <td>4251.00000</td>\n",
       "      <td>4252.000</td>\n",
       "      <td>4253.000</td>\n",
       "      <td>4257.0</td>\n",
       "    </tr>\n",
       "    <tr>\n",
       "      <td>year</td>\n",
       "      <td>899.0</td>\n",
       "      <td>2007.142380</td>\n",
       "      <td>4.838802</td>\n",
       "      <td>1975.0</td>\n",
       "      <td>2005.00000</td>\n",
       "      <td>2007.000</td>\n",
       "      <td>2011.000</td>\n",
       "      <td>2016.0</td>\n",
       "    </tr>\n",
       "    <tr>\n",
       "      <td>value</td>\n",
       "      <td>899.0</td>\n",
       "      <td>106.689934</td>\n",
       "      <td>333.192434</td>\n",
       "      <td>0.0</td>\n",
       "      <td>0.14995</td>\n",
       "      <td>1.267</td>\n",
       "      <td>28.575</td>\n",
       "      <td>5753.0</td>\n",
       "    </tr>\n",
       "  </tbody>\n",
       "</table>\n",
       "</div>"
      ],
      "text/plain": [
       "             count         mean         std     min         25%       50%  \\\n",
       "area_id      899.0   130.487208   76.219080     1.0    64.50000   129.000   \n",
       "variable_id  899.0  4252.609566    2.422049  4250.0  4251.00000  4252.000   \n",
       "year         899.0  2007.142380    4.838802  1975.0  2005.00000  2007.000   \n",
       "value        899.0   106.689934  333.192434     0.0     0.14995     1.267   \n",
       "\n",
       "                  75%     max  \n",
       "area_id       194.000   351.0  \n",
       "variable_id  4253.000  4257.0  \n",
       "year         2011.000  2016.0  \n",
       "value          28.575  5753.0  "
      ]
     },
     "execution_count": 13,
     "metadata": {},
     "output_type": "execute_result"
    }
   ],
   "source": [
    "ballteam.describe().transpose()"
   ]
  },
  {
   "cell_type": "code",
   "execution_count": 14,
   "metadata": {},
   "outputs": [
    {
     "data": {
      "text/html": [
       "<div>\n",
       "<style scoped>\n",
       "    .dataframe tbody tr th:only-of-type {\n",
       "        vertical-align: middle;\n",
       "    }\n",
       "\n",
       "    .dataframe tbody tr th {\n",
       "        vertical-align: top;\n",
       "    }\n",
       "\n",
       "    .dataframe thead th {\n",
       "        text-align: right;\n",
       "    }\n",
       "</style>\n",
       "<table border=\"1\" class=\"dataframe\">\n",
       "  <thead>\n",
       "    <tr style=\"text-align: right;\">\n",
       "      <th></th>\n",
       "      <th>area_id</th>\n",
       "      <th>variable_id</th>\n",
       "      <th>year</th>\n",
       "      <th>value</th>\n",
       "      <th>symbol</th>\n",
       "      <th>md</th>\n",
       "      <th>area</th>\n",
       "      <th>variable_name</th>\n",
       "    </tr>\n",
       "  </thead>\n",
       "  <tbody>\n",
       "    <tr>\n",
       "      <td>0</td>\n",
       "      <td>4</td>\n",
       "      <td>4250</td>\n",
       "      <td>2012</td>\n",
       "      <td>4.990</td>\n",
       "      <td>I</td>\n",
       "      <td>[1]</td>\n",
       "      <td>Algeria</td>\n",
       "      <td>Agricultural water withdrawal</td>\n",
       "    </tr>\n",
       "    <tr>\n",
       "      <td>1</td>\n",
       "      <td>4</td>\n",
       "      <td>4252</td>\n",
       "      <td>2012</td>\n",
       "      <td>0.415</td>\n",
       "      <td>I</td>\n",
       "      <td>[2]</td>\n",
       "      <td>Algeria</td>\n",
       "      <td>Industrial water withdrawal</td>\n",
       "    </tr>\n",
       "  </tbody>\n",
       "</table>\n",
       "</div>"
      ],
      "text/plain": [
       "   area_id  variable_id  year  value symbol   md     area  \\\n",
       "0        4         4250  2012  4.990      I  [1]  Algeria   \n",
       "1        4         4252  2012  0.415      I  [2]  Algeria   \n",
       "\n",
       "                   variable_name  \n",
       "0  Agricultural water withdrawal  \n",
       "1    Industrial water withdrawal  "
      ]
     },
     "execution_count": 14,
     "metadata": {},
     "output_type": "execute_result"
    }
   ],
   "source": [
    "ballteam.head(2)"
   ]
  },
  {
   "cell_type": "code",
   "execution_count": 6,
   "metadata": {},
   "outputs": [],
   "source": [
    "ballteam.columns = ['Area_ID', 'Variable_ID', 'Year', \"Value\", \"Symbol\", 'Md', \"Area\", 'Variable_name']"
   ]
  },
  {
   "cell_type": "code",
   "execution_count": 27,
   "metadata": {},
   "outputs": [
    {
     "data": {
      "text/plain": [
       "Index(['Area_ID', 'Variable_ID', 'Year', 'Value', 'Symbol', 'Md', 'Area',\n",
       "       'Variable_name'],\n",
       "      dtype='object')"
      ]
     },
     "execution_count": 27,
     "metadata": {},
     "output_type": "execute_result"
    }
   ],
   "source": [
    "ballteam.columns"
   ]
  },
  {
   "cell_type": "code",
   "execution_count": 36,
   "metadata": {},
   "outputs": [
    {
     "data": {
      "text/html": [
       "<div>\n",
       "<style scoped>\n",
       "    .dataframe tbody tr th:only-of-type {\n",
       "        vertical-align: middle;\n",
       "    }\n",
       "\n",
       "    .dataframe tbody tr th {\n",
       "        vertical-align: top;\n",
       "    }\n",
       "\n",
       "    .dataframe thead th {\n",
       "        text-align: right;\n",
       "    }\n",
       "</style>\n",
       "<table border=\"1\" class=\"dataframe\">\n",
       "  <thead>\n",
       "    <tr style=\"text-align: right;\">\n",
       "      <th></th>\n",
       "      <th>Area_ID</th>\n",
       "      <th>Variable_ID</th>\n",
       "      <th>Year</th>\n",
       "      <th>Value</th>\n",
       "      <th>Symbol</th>\n",
       "      <th>Md</th>\n",
       "      <th>Area</th>\n",
       "      <th>Variable_name</th>\n",
       "    </tr>\n",
       "  </thead>\n",
       "  <tbody>\n",
       "    <tr>\n",
       "      <td>4</td>\n",
       "      <td>4</td>\n",
       "      <td>4257</td>\n",
       "      <td>2012</td>\n",
       "      <td>225.000</td>\n",
       "      <td>K</td>\n",
       "      <td>NaN</td>\n",
       "      <td>Algeria</td>\n",
       "      <td>Total water withdrawal per capita</td>\n",
       "    </tr>\n",
       "    <tr>\n",
       "      <td>3</td>\n",
       "      <td>4</td>\n",
       "      <td>4253</td>\n",
       "      <td>2012</td>\n",
       "      <td>8.425</td>\n",
       "      <td>I</td>\n",
       "      <td>NaN</td>\n",
       "      <td>Algeria</td>\n",
       "      <td>Total water withdrawal</td>\n",
       "    </tr>\n",
       "    <tr>\n",
       "      <td>2</td>\n",
       "      <td>4</td>\n",
       "      <td>4251</td>\n",
       "      <td>2012</td>\n",
       "      <td>3.020</td>\n",
       "      <td>I</td>\n",
       "      <td>[3]</td>\n",
       "      <td>Algeria</td>\n",
       "      <td>Municipal water withdrawal</td>\n",
       "    </tr>\n",
       "    <tr>\n",
       "      <td>1</td>\n",
       "      <td>4</td>\n",
       "      <td>4252</td>\n",
       "      <td>2012</td>\n",
       "      <td>0.415</td>\n",
       "      <td>I</td>\n",
       "      <td>[2]</td>\n",
       "      <td>Algeria</td>\n",
       "      <td>Industrial water withdrawal</td>\n",
       "    </tr>\n",
       "  </tbody>\n",
       "</table>\n",
       "</div>"
      ],
      "text/plain": [
       "   Area_ID  Variable_ID  Year    Value Symbol   Md     Area  \\\n",
       "4        4         4257  2012  225.000      K  NaN  Algeria   \n",
       "3        4         4253  2012    8.425      I  NaN  Algeria   \n",
       "2        4         4251  2012    3.020      I  [3]  Algeria   \n",
       "1        4         4252  2012    0.415      I  [2]  Algeria   \n",
       "\n",
       "                       Variable_name  \n",
       "4  Total water withdrawal per capita  \n",
       "3             Total water withdrawal  \n",
       "2         Municipal water withdrawal  \n",
       "1        Industrial water withdrawal  "
      ]
     },
     "execution_count": 36,
     "metadata": {},
     "output_type": "execute_result"
    }
   ],
   "source": [
    "ballteam[4:0:-1]"
   ]
  },
  {
   "cell_type": "code",
   "execution_count": 37,
   "metadata": {},
   "outputs": [
    {
     "data": {
      "text/html": [
       "<div>\n",
       "<style scoped>\n",
       "    .dataframe tbody tr th:only-of-type {\n",
       "        vertical-align: middle;\n",
       "    }\n",
       "\n",
       "    .dataframe tbody tr th {\n",
       "        vertical-align: top;\n",
       "    }\n",
       "\n",
       "    .dataframe thead th {\n",
       "        text-align: right;\n",
       "    }\n",
       "</style>\n",
       "<table border=\"1\" class=\"dataframe\">\n",
       "  <thead>\n",
       "    <tr style=\"text-align: right;\">\n",
       "      <th></th>\n",
       "      <th>Area_ID</th>\n",
       "      <th>Variable_ID</th>\n",
       "      <th>Year</th>\n",
       "      <th>Value</th>\n",
       "      <th>Symbol</th>\n",
       "      <th>Md</th>\n",
       "      <th>Area</th>\n",
       "      <th>Variable_name</th>\n",
       "    </tr>\n",
       "  </thead>\n",
       "  <tbody>\n",
       "    <tr>\n",
       "      <td>0</td>\n",
       "      <td>4</td>\n",
       "      <td>4250</td>\n",
       "      <td>2012</td>\n",
       "      <td>4.990</td>\n",
       "      <td>I</td>\n",
       "      <td>[1]</td>\n",
       "      <td>Algeria</td>\n",
       "      <td>Agricultural water withdrawal</td>\n",
       "    </tr>\n",
       "    <tr>\n",
       "      <td>1</td>\n",
       "      <td>4</td>\n",
       "      <td>4252</td>\n",
       "      <td>2012</td>\n",
       "      <td>0.415</td>\n",
       "      <td>I</td>\n",
       "      <td>[2]</td>\n",
       "      <td>Algeria</td>\n",
       "      <td>Industrial water withdrawal</td>\n",
       "    </tr>\n",
       "    <tr>\n",
       "      <td>2</td>\n",
       "      <td>4</td>\n",
       "      <td>4251</td>\n",
       "      <td>2012</td>\n",
       "      <td>3.020</td>\n",
       "      <td>I</td>\n",
       "      <td>[3]</td>\n",
       "      <td>Algeria</td>\n",
       "      <td>Municipal water withdrawal</td>\n",
       "    </tr>\n",
       "    <tr>\n",
       "      <td>3</td>\n",
       "      <td>4</td>\n",
       "      <td>4253</td>\n",
       "      <td>2012</td>\n",
       "      <td>8.425</td>\n",
       "      <td>I</td>\n",
       "      <td>NaN</td>\n",
       "      <td>Algeria</td>\n",
       "      <td>Total water withdrawal</td>\n",
       "    </tr>\n",
       "  </tbody>\n",
       "</table>\n",
       "</div>"
      ],
      "text/plain": [
       "   Area_ID  Variable_ID  Year  Value Symbol   Md     Area  \\\n",
       "0        4         4250  2012  4.990      I  [1]  Algeria   \n",
       "1        4         4252  2012  0.415      I  [2]  Algeria   \n",
       "2        4         4251  2012  3.020      I  [3]  Algeria   \n",
       "3        4         4253  2012  8.425      I  NaN  Algeria   \n",
       "\n",
       "                   Variable_name  \n",
       "0  Agricultural water withdrawal  \n",
       "1    Industrial water withdrawal  \n",
       "2     Municipal water withdrawal  \n",
       "3         Total water withdrawal  "
      ]
     },
     "execution_count": 37,
     "metadata": {},
     "output_type": "execute_result"
    }
   ],
   "source": [
    "ballteam[0:4]"
   ]
  },
  {
   "cell_type": "code",
   "execution_count": 38,
   "metadata": {},
   "outputs": [
    {
     "data": {
      "text/html": [
       "<div>\n",
       "<style scoped>\n",
       "    .dataframe tbody tr th:only-of-type {\n",
       "        vertical-align: middle;\n",
       "    }\n",
       "\n",
       "    .dataframe tbody tr th {\n",
       "        vertical-align: top;\n",
       "    }\n",
       "\n",
       "    .dataframe thead th {\n",
       "        text-align: right;\n",
       "    }\n",
       "</style>\n",
       "<table border=\"1\" class=\"dataframe\">\n",
       "  <thead>\n",
       "    <tr style=\"text-align: right;\">\n",
       "      <th></th>\n",
       "      <th>Area_ID</th>\n",
       "      <th>Variable_ID</th>\n",
       "      <th>Year</th>\n",
       "      <th>Value</th>\n",
       "      <th>Symbol</th>\n",
       "      <th>Md</th>\n",
       "      <th>Area</th>\n",
       "      <th>Variable_name</th>\n",
       "    </tr>\n",
       "  </thead>\n",
       "  <tbody>\n",
       "    <tr>\n",
       "      <td>898</td>\n",
       "      <td>156</td>\n",
       "      <td>4257</td>\n",
       "      <td>2010</td>\n",
       "      <td>1172.0000</td>\n",
       "      <td>E</td>\n",
       "      <td>NaN</td>\n",
       "      <td>New Zealand</td>\n",
       "      <td>Total water withdrawal per capita</td>\n",
       "    </tr>\n",
       "    <tr>\n",
       "      <td>897</td>\n",
       "      <td>156</td>\n",
       "      <td>4253</td>\n",
       "      <td>2010</td>\n",
       "      <td>5.2010</td>\n",
       "      <td>E</td>\n",
       "      <td>NaN</td>\n",
       "      <td>New Zealand</td>\n",
       "      <td>Total water withdrawal</td>\n",
       "    </tr>\n",
       "    <tr>\n",
       "      <td>896</td>\n",
       "      <td>156</td>\n",
       "      <td>4251</td>\n",
       "      <td>2010</td>\n",
       "      <td>0.8100</td>\n",
       "      <td>E</td>\n",
       "      <td>[127]</td>\n",
       "      <td>New Zealand</td>\n",
       "      <td>Municipal water withdrawal</td>\n",
       "    </tr>\n",
       "    <tr>\n",
       "      <td>895</td>\n",
       "      <td>156</td>\n",
       "      <td>4252</td>\n",
       "      <td>2010</td>\n",
       "      <td>1.1840</td>\n",
       "      <td>E</td>\n",
       "      <td>NaN</td>\n",
       "      <td>New Zealand</td>\n",
       "      <td>Industrial water withdrawal</td>\n",
       "    </tr>\n",
       "    <tr>\n",
       "      <td>894</td>\n",
       "      <td>156</td>\n",
       "      <td>4250</td>\n",
       "      <td>2010</td>\n",
       "      <td>3.2070</td>\n",
       "      <td>E</td>\n",
       "      <td>[126]</td>\n",
       "      <td>New Zealand</td>\n",
       "      <td>Agricultural water withdrawal</td>\n",
       "    </tr>\n",
       "    <tr>\n",
       "      <td>...</td>\n",
       "      <td>...</td>\n",
       "      <td>...</td>\n",
       "      <td>...</td>\n",
       "      <td>...</td>\n",
       "      <td>...</td>\n",
       "      <td>...</td>\n",
       "      <td>...</td>\n",
       "      <td>...</td>\n",
       "    </tr>\n",
       "    <tr>\n",
       "      <td>5</td>\n",
       "      <td>7</td>\n",
       "      <td>4250</td>\n",
       "      <td>2005</td>\n",
       "      <td>0.1467</td>\n",
       "      <td>L</td>\n",
       "      <td>[4]</td>\n",
       "      <td>Angola</td>\n",
       "      <td>Agricultural water withdrawal</td>\n",
       "    </tr>\n",
       "    <tr>\n",
       "      <td>4</td>\n",
       "      <td>4</td>\n",
       "      <td>4257</td>\n",
       "      <td>2012</td>\n",
       "      <td>225.0000</td>\n",
       "      <td>K</td>\n",
       "      <td>NaN</td>\n",
       "      <td>Algeria</td>\n",
       "      <td>Total water withdrawal per capita</td>\n",
       "    </tr>\n",
       "    <tr>\n",
       "      <td>3</td>\n",
       "      <td>4</td>\n",
       "      <td>4253</td>\n",
       "      <td>2012</td>\n",
       "      <td>8.4250</td>\n",
       "      <td>I</td>\n",
       "      <td>NaN</td>\n",
       "      <td>Algeria</td>\n",
       "      <td>Total water withdrawal</td>\n",
       "    </tr>\n",
       "    <tr>\n",
       "      <td>2</td>\n",
       "      <td>4</td>\n",
       "      <td>4251</td>\n",
       "      <td>2012</td>\n",
       "      <td>3.0200</td>\n",
       "      <td>I</td>\n",
       "      <td>[3]</td>\n",
       "      <td>Algeria</td>\n",
       "      <td>Municipal water withdrawal</td>\n",
       "    </tr>\n",
       "    <tr>\n",
       "      <td>1</td>\n",
       "      <td>4</td>\n",
       "      <td>4252</td>\n",
       "      <td>2012</td>\n",
       "      <td>0.4150</td>\n",
       "      <td>I</td>\n",
       "      <td>[2]</td>\n",
       "      <td>Algeria</td>\n",
       "      <td>Industrial water withdrawal</td>\n",
       "    </tr>\n",
       "  </tbody>\n",
       "</table>\n",
       "<p>898 rows × 8 columns</p>\n",
       "</div>"
      ],
      "text/plain": [
       "     Area_ID  Variable_ID  Year      Value Symbol     Md         Area  \\\n",
       "898      156         4257  2010  1172.0000      E    NaN  New Zealand   \n",
       "897      156         4253  2010     5.2010      E    NaN  New Zealand   \n",
       "896      156         4251  2010     0.8100      E  [127]  New Zealand   \n",
       "895      156         4252  2010     1.1840      E    NaN  New Zealand   \n",
       "894      156         4250  2010     3.2070      E  [126]  New Zealand   \n",
       "..       ...          ...   ...        ...    ...    ...          ...   \n",
       "5          7         4250  2005     0.1467      L    [4]       Angola   \n",
       "4          4         4257  2012   225.0000      K    NaN      Algeria   \n",
       "3          4         4253  2012     8.4250      I    NaN      Algeria   \n",
       "2          4         4251  2012     3.0200      I    [3]      Algeria   \n",
       "1          4         4252  2012     0.4150      I    [2]      Algeria   \n",
       "\n",
       "                         Variable_name  \n",
       "898  Total water withdrawal per capita  \n",
       "897             Total water withdrawal  \n",
       "896         Municipal water withdrawal  \n",
       "895        Industrial water withdrawal  \n",
       "894      Agricultural water withdrawal  \n",
       "..                                 ...  \n",
       "5        Agricultural water withdrawal  \n",
       "4    Total water withdrawal per capita  \n",
       "3               Total water withdrawal  \n",
       "2           Municipal water withdrawal  \n",
       "1          Industrial water withdrawal  \n",
       "\n",
       "[898 rows x 8 columns]"
      ]
     },
     "execution_count": 38,
     "metadata": {},
     "output_type": "execute_result"
    }
   ],
   "source": [
    "ballteam[:0:-1]"
   ]
  },
  {
   "cell_type": "code",
   "execution_count": 41,
   "metadata": {},
   "outputs": [
    {
     "data": {
      "text/html": [
       "<div>\n",
       "<style scoped>\n",
       "    .dataframe tbody tr th:only-of-type {\n",
       "        vertical-align: middle;\n",
       "    }\n",
       "\n",
       "    .dataframe tbody tr th {\n",
       "        vertical-align: top;\n",
       "    }\n",
       "\n",
       "    .dataframe thead th {\n",
       "        text-align: right;\n",
       "    }\n",
       "</style>\n",
       "<table border=\"1\" class=\"dataframe\">\n",
       "  <thead>\n",
       "    <tr style=\"text-align: right;\">\n",
       "      <th></th>\n",
       "      <th>Area_ID</th>\n",
       "      <th>Variable_ID</th>\n",
       "      <th>Year</th>\n",
       "      <th>Value</th>\n",
       "      <th>Symbol</th>\n",
       "      <th>Md</th>\n",
       "      <th>Area</th>\n",
       "      <th>Variable_name</th>\n",
       "    </tr>\n",
       "  </thead>\n",
       "  <tbody>\n",
       "    <tr>\n",
       "      <td>0</td>\n",
       "      <td>4</td>\n",
       "      <td>4250</td>\n",
       "      <td>2012</td>\n",
       "      <td>4.9900</td>\n",
       "      <td>I</td>\n",
       "      <td>[1]</td>\n",
       "      <td>Algeria</td>\n",
       "      <td>Agricultural water withdrawal</td>\n",
       "    </tr>\n",
       "    <tr>\n",
       "      <td>200</td>\n",
       "      <td>195</td>\n",
       "      <td>4253</td>\n",
       "      <td>2002</td>\n",
       "      <td>2.2210</td>\n",
       "      <td>I</td>\n",
       "      <td>NaN</td>\n",
       "      <td>Senegal</td>\n",
       "      <td>Total water withdrawal</td>\n",
       "    </tr>\n",
       "    <tr>\n",
       "      <td>400</td>\n",
       "      <td>177</td>\n",
       "      <td>4251</td>\n",
       "      <td>2010</td>\n",
       "      <td>0.9386</td>\n",
       "      <td>NaN</td>\n",
       "      <td>NaN</td>\n",
       "      <td>Puerto Rico</td>\n",
       "      <td>Municipal water withdrawal</td>\n",
       "    </tr>\n",
       "    <tr>\n",
       "      <td>600</td>\n",
       "      <td>168</td>\n",
       "      <td>4253</td>\n",
       "      <td>2005</td>\n",
       "      <td>0.3921</td>\n",
       "      <td>L</td>\n",
       "      <td>NaN</td>\n",
       "      <td>Papua New Guinea</td>\n",
       "      <td>Total water withdrawal</td>\n",
       "    </tr>\n",
       "    <tr>\n",
       "      <td>800</td>\n",
       "      <td>140</td>\n",
       "      <td>4257</td>\n",
       "      <td>2009</td>\n",
       "      <td>133.7000</td>\n",
       "      <td>E</td>\n",
       "      <td>NaN</td>\n",
       "      <td>Monaco</td>\n",
       "      <td>Total water withdrawal per capita</td>\n",
       "    </tr>\n",
       "  </tbody>\n",
       "</table>\n",
       "</div>"
      ],
      "text/plain": [
       "     Area_ID  Variable_ID  Year     Value Symbol   Md              Area  \\\n",
       "0          4         4250  2012    4.9900      I  [1]           Algeria   \n",
       "200      195         4253  2002    2.2210      I  NaN           Senegal   \n",
       "400      177         4251  2010    0.9386    NaN  NaN       Puerto Rico   \n",
       "600      168         4253  2005    0.3921      L  NaN  Papua New Guinea   \n",
       "800      140         4257  2009  133.7000      E  NaN            Monaco   \n",
       "\n",
       "                         Variable_name  \n",
       "0        Agricultural water withdrawal  \n",
       "200             Total water withdrawal  \n",
       "400         Municipal water withdrawal  \n",
       "600             Total water withdrawal  \n",
       "800  Total water withdrawal per capita  "
      ]
     },
     "execution_count": 41,
     "metadata": {},
     "output_type": "execute_result"
    }
   ],
   "source": [
    "ballteam[::200]"
   ]
  },
  {
   "cell_type": "code",
   "execution_count": 44,
   "metadata": {},
   "outputs": [
    {
     "data": {
      "text/html": [
       "<div>\n",
       "<style scoped>\n",
       "    .dataframe tbody tr th:only-of-type {\n",
       "        vertical-align: middle;\n",
       "    }\n",
       "\n",
       "    .dataframe tbody tr th {\n",
       "        vertical-align: top;\n",
       "    }\n",
       "\n",
       "    .dataframe thead th {\n",
       "        text-align: right;\n",
       "    }\n",
       "</style>\n",
       "<table border=\"1\" class=\"dataframe\">\n",
       "  <thead>\n",
       "    <tr style=\"text-align: right;\">\n",
       "      <th></th>\n",
       "      <th>Area_ID</th>\n",
       "      <th>Year</th>\n",
       "      <th>Area</th>\n",
       "    </tr>\n",
       "  </thead>\n",
       "  <tbody>\n",
       "    <tr>\n",
       "      <td>0</td>\n",
       "      <td>4</td>\n",
       "      <td>2012</td>\n",
       "      <td>Algeria</td>\n",
       "    </tr>\n",
       "    <tr>\n",
       "      <td>1</td>\n",
       "      <td>4</td>\n",
       "      <td>2012</td>\n",
       "      <td>Algeria</td>\n",
       "    </tr>\n",
       "    <tr>\n",
       "      <td>2</td>\n",
       "      <td>4</td>\n",
       "      <td>2012</td>\n",
       "      <td>Algeria</td>\n",
       "    </tr>\n",
       "    <tr>\n",
       "      <td>3</td>\n",
       "      <td>4</td>\n",
       "      <td>2012</td>\n",
       "      <td>Algeria</td>\n",
       "    </tr>\n",
       "    <tr>\n",
       "      <td>4</td>\n",
       "      <td>4</td>\n",
       "      <td>2012</td>\n",
       "      <td>Algeria</td>\n",
       "    </tr>\n",
       "    <tr>\n",
       "      <td>...</td>\n",
       "      <td>...</td>\n",
       "      <td>...</td>\n",
       "      <td>...</td>\n",
       "    </tr>\n",
       "    <tr>\n",
       "      <td>894</td>\n",
       "      <td>156</td>\n",
       "      <td>2010</td>\n",
       "      <td>New Zealand</td>\n",
       "    </tr>\n",
       "    <tr>\n",
       "      <td>895</td>\n",
       "      <td>156</td>\n",
       "      <td>2010</td>\n",
       "      <td>New Zealand</td>\n",
       "    </tr>\n",
       "    <tr>\n",
       "      <td>896</td>\n",
       "      <td>156</td>\n",
       "      <td>2010</td>\n",
       "      <td>New Zealand</td>\n",
       "    </tr>\n",
       "    <tr>\n",
       "      <td>897</td>\n",
       "      <td>156</td>\n",
       "      <td>2010</td>\n",
       "      <td>New Zealand</td>\n",
       "    </tr>\n",
       "    <tr>\n",
       "      <td>898</td>\n",
       "      <td>156</td>\n",
       "      <td>2010</td>\n",
       "      <td>New Zealand</td>\n",
       "    </tr>\n",
       "  </tbody>\n",
       "</table>\n",
       "<p>899 rows × 3 columns</p>\n",
       "</div>"
      ],
      "text/plain": [
       "     Area_ID  Year         Area\n",
       "0          4  2012      Algeria\n",
       "1          4  2012      Algeria\n",
       "2          4  2012      Algeria\n",
       "3          4  2012      Algeria\n",
       "4          4  2012      Algeria\n",
       "..       ...   ...          ...\n",
       "894      156  2010  New Zealand\n",
       "895      156  2010  New Zealand\n",
       "896      156  2010  New Zealand\n",
       "897      156  2010  New Zealand\n",
       "898      156  2010  New Zealand\n",
       "\n",
       "[899 rows x 3 columns]"
      ]
     },
     "execution_count": 44,
     "metadata": {},
     "output_type": "execute_result"
    }
   ],
   "source": [
    "ballteam[['Area_ID', 'Year', 'Area']]"
   ]
  },
  {
   "cell_type": "code",
   "execution_count": 45,
   "metadata": {},
   "outputs": [
    {
     "data": {
      "text/html": [
       "<div>\n",
       "<style scoped>\n",
       "    .dataframe tbody tr th:only-of-type {\n",
       "        vertical-align: middle;\n",
       "    }\n",
       "\n",
       "    .dataframe tbody tr th {\n",
       "        vertical-align: top;\n",
       "    }\n",
       "\n",
       "    .dataframe thead th {\n",
       "        text-align: right;\n",
       "    }\n",
       "</style>\n",
       "<table border=\"1\" class=\"dataframe\">\n",
       "  <thead>\n",
       "    <tr style=\"text-align: right;\">\n",
       "      <th></th>\n",
       "      <th>Area_ID</th>\n",
       "      <th>Year</th>\n",
       "      <th>Area</th>\n",
       "    </tr>\n",
       "  </thead>\n",
       "  <tbody>\n",
       "    <tr>\n",
       "      <td>0</td>\n",
       "      <td>4</td>\n",
       "      <td>2012</td>\n",
       "      <td>Algeria</td>\n",
       "    </tr>\n",
       "    <tr>\n",
       "      <td>1</td>\n",
       "      <td>4</td>\n",
       "      <td>2012</td>\n",
       "      <td>Algeria</td>\n",
       "    </tr>\n",
       "    <tr>\n",
       "      <td>2</td>\n",
       "      <td>4</td>\n",
       "      <td>2012</td>\n",
       "      <td>Algeria</td>\n",
       "    </tr>\n",
       "    <tr>\n",
       "      <td>3</td>\n",
       "      <td>4</td>\n",
       "      <td>2012</td>\n",
       "      <td>Algeria</td>\n",
       "    </tr>\n",
       "    <tr>\n",
       "      <td>4</td>\n",
       "      <td>4</td>\n",
       "      <td>2012</td>\n",
       "      <td>Algeria</td>\n",
       "    </tr>\n",
       "    <tr>\n",
       "      <td>5</td>\n",
       "      <td>7</td>\n",
       "      <td>2005</td>\n",
       "      <td>Angola</td>\n",
       "    </tr>\n",
       "    <tr>\n",
       "      <td>6</td>\n",
       "      <td>7</td>\n",
       "      <td>2005</td>\n",
       "      <td>Angola</td>\n",
       "    </tr>\n",
       "    <tr>\n",
       "      <td>7</td>\n",
       "      <td>7</td>\n",
       "      <td>2005</td>\n",
       "      <td>Angola</td>\n",
       "    </tr>\n",
       "  </tbody>\n",
       "</table>\n",
       "</div>"
      ],
      "text/plain": [
       "   Area_ID  Year     Area\n",
       "0        4  2012  Algeria\n",
       "1        4  2012  Algeria\n",
       "2        4  2012  Algeria\n",
       "3        4  2012  Algeria\n",
       "4        4  2012  Algeria\n",
       "5        7  2005   Angola\n",
       "6        7  2005   Angola\n",
       "7        7  2005   Angola"
      ]
     },
     "execution_count": 45,
     "metadata": {},
     "output_type": "execute_result"
    }
   ],
   "source": [
    "ballteam[:8][['Area_ID', 'Year', 'Area']]"
   ]
  },
  {
   "cell_type": "code",
   "execution_count": 46,
   "metadata": {},
   "outputs": [
    {
     "data": {
      "text/html": [
       "<div>\n",
       "<style scoped>\n",
       "    .dataframe tbody tr th:only-of-type {\n",
       "        vertical-align: middle;\n",
       "    }\n",
       "\n",
       "    .dataframe tbody tr th {\n",
       "        vertical-align: top;\n",
       "    }\n",
       "\n",
       "    .dataframe thead th {\n",
       "        text-align: right;\n",
       "    }\n",
       "</style>\n",
       "<table border=\"1\" class=\"dataframe\">\n",
       "  <thead>\n",
       "    <tr style=\"text-align: right;\">\n",
       "      <th></th>\n",
       "      <th>Area_ID</th>\n",
       "      <th>Year</th>\n",
       "      <th>Area</th>\n",
       "    </tr>\n",
       "  </thead>\n",
       "  <tbody>\n",
       "    <tr>\n",
       "      <td>0</td>\n",
       "      <td>4</td>\n",
       "      <td>2012</td>\n",
       "      <td>Algeria</td>\n",
       "    </tr>\n",
       "    <tr>\n",
       "      <td>1</td>\n",
       "      <td>4</td>\n",
       "      <td>2012</td>\n",
       "      <td>Algeria</td>\n",
       "    </tr>\n",
       "    <tr>\n",
       "      <td>2</td>\n",
       "      <td>4</td>\n",
       "      <td>2012</td>\n",
       "      <td>Algeria</td>\n",
       "    </tr>\n",
       "    <tr>\n",
       "      <td>3</td>\n",
       "      <td>4</td>\n",
       "      <td>2012</td>\n",
       "      <td>Algeria</td>\n",
       "    </tr>\n",
       "    <tr>\n",
       "      <td>4</td>\n",
       "      <td>4</td>\n",
       "      <td>2012</td>\n",
       "      <td>Algeria</td>\n",
       "    </tr>\n",
       "    <tr>\n",
       "      <td>5</td>\n",
       "      <td>7</td>\n",
       "      <td>2005</td>\n",
       "      <td>Angola</td>\n",
       "    </tr>\n",
       "    <tr>\n",
       "      <td>6</td>\n",
       "      <td>7</td>\n",
       "      <td>2005</td>\n",
       "      <td>Angola</td>\n",
       "    </tr>\n",
       "    <tr>\n",
       "      <td>7</td>\n",
       "      <td>7</td>\n",
       "      <td>2005</td>\n",
       "      <td>Angola</td>\n",
       "    </tr>\n",
       "  </tbody>\n",
       "</table>\n",
       "</div>"
      ],
      "text/plain": [
       "   Area_ID  Year     Area\n",
       "0        4  2012  Algeria\n",
       "1        4  2012  Algeria\n",
       "2        4  2012  Algeria\n",
       "3        4  2012  Algeria\n",
       "4        4  2012  Algeria\n",
       "5        7  2005   Angola\n",
       "6        7  2005   Angola\n",
       "7        7  2005   Angola"
      ]
     },
     "execution_count": 46,
     "metadata": {},
     "output_type": "execute_result"
    }
   ],
   "source": [
    "ballteam[['Area_ID', 'Year', 'Area']][:8]"
   ]
  },
  {
   "cell_type": "code",
   "execution_count": 7,
   "metadata": {},
   "outputs": [
    {
     "data": {
      "text/plain": [
       "0          Algeria\n",
       "1          Algeria\n",
       "2          Algeria\n",
       "3          Algeria\n",
       "4          Algeria\n",
       "          ...     \n",
       "894    New Zealand\n",
       "895    New Zealand\n",
       "896    New Zealand\n",
       "897    New Zealand\n",
       "898    New Zealand\n",
       "Name: Area, Length: 899, dtype: object"
      ]
     },
     "execution_count": 7,
     "metadata": {},
     "output_type": "execute_result"
    }
   ],
   "source": [
    "ballteam.Area"
   ]
  },
  {
   "cell_type": "markdown",
   "metadata": {},
   "source": [
    "---"
   ]
  },
  {
   "cell_type": "markdown",
   "metadata": {},
   "source": [
    "--- GRAPH ---"
   ]
  },
  {
   "cell_type": "code",
   "execution_count": 222,
   "metadata": {},
   "outputs": [],
   "source": [
    "import numpy as np\n",
    "import matplotlib.pyplot as plt\n",
    "import warnings\n",
    "warnings.filterwarnings('ignore')\n",
    "import seaborn as sns\n"
   ]
  },
  {
   "cell_type": "code",
   "execution_count": 250,
   "metadata": {},
   "outputs": [],
   "source": [
    "# Sabha Attendence\n",
    "\n",
    "MiraRoadBal = [7,9,11,11,12,12,12,12,12]\n",
    "PoonamNagar = [5,3,2,7,5,0,4,6,7]\n",
    "VijayPark = [3,5,6,7,6,6,7,7,7]\n",
    "ShantiVihar = [2,2,2,2,2,2,2,4,5]\n",
    "PoonamSagar = [3,2,5,4,10,6,7,5,9]\n",
    "PenkarPada = [6,5,4,3,6,5,4,6,3]\n",
    "Sector1 = [3,5,4,5,3,2,5,4,3]\n",
    "Sector6 = [3,0,0,0,0,0,0,0,0]\n",
    "PleasantPark = [2,3,2,4,3,2,4,4,2]\n",
    "Shishu1 = [3,4,5,3,2,0,4,4,5]\n",
    "Shishu2 = [5,4,4,5,3,4,4,4,5]\n",
    "Shishu3 = [5,7,6,7,7,6,7,6,7]\n",
    "SVshishu = [6,2,3,4,3,7,4,2,3] \n",
    "S6shishu = [7,5,5,6,7,10,6,4,4]\n",
    "\n",
    "A =np.array([ MiraRoadBal, PoonamNagar, VijayPark, ShantiVihar, PoonamSagar, PenkarPada, Sector1, \n",
    "                       Sector6, PleasantPark, Shishu1, Shishu2, Shishu3, SVshishu, S6shishu ])"
   ]
  },
  {
   "cell_type": "code",
   "execution_count": 223,
   "metadata": {},
   "outputs": [],
   "source": [
    "Sabha = [1,2,3,4,5,6,7,8,9]\n",
    "s = {1:1,2:2,3:3,4:4,5:5,6:6,7:7,8:8,9:9}\n",
    "\n",
    "mandal=[\"Mira Road Bal\",\"Poonam Nagar\", \"Vijay Park\", \"Shanti Vihar\", \"Poonam Sagar\", \"Penkarpada\",\"Sector-1\", \n",
    "        \"Sector-6\", \"Pleasant park\", \"Mira Road Shishu-1\", \"Mira Road Shishu-2\", \"Mira Road Shishu-3\", \n",
    "        \"Shanti Vihar Shishu\", \"Sector-6 Shishu\"]\n",
    "\n",
    "m = {\"Mira Road Bal\": 0,\"Poonam Nagar\": 1, \"Vijay Park\": 2, \"Shanti Vihar\": 3, \"Poonam Sagar\": 4, \"Penkarpada\": 5,\n",
    "        \"Sector-1\": 6, \"Sector-6\": 7, \"Pleasant park\": 8, \"Mira Road Shishu-1\": 9, \"Mira Road Shishu-2\": 10,\n",
    "       \"Mira Road Shishu-3\": 11, \"Shanti Vihar Shishu\": 12, \"Sector-6 Shishu\": 13}"
   ]
  },
  {
   "cell_type": "code",
   "execution_count": 257,
   "metadata": {},
   "outputs": [
    {
     "data": {
      "image/png": "[encoded data removed]",
      "text/plain": [
       "<Figure size 1080x720 with 1 Axes>"
      ]
     },
     "metadata": {},
     "output_type": "display_data"
    }
   ],
   "source": [
    "plt.plot(A[m['Sector-6 Shishu']], ls='--', marker=\"s\", c=\"white\",ms=8)\n",
    "for i in range(len(A[m['Sector-6 Shishu']])):\n",
    "    plt.text(i-0.05,A[m['Sector-6 Shishu']][i]+0.4,A[m['Sector-6 Shishu']][i], c=\"white\", fontsize=18 )\n",
    "\n",
    "plt.text(6.2,9,\" Total Sankhiya: 12 \",c=\"yellow\", fontsize=20,bbox=dict(facecolor='white', alpha=0.6),family=\"fantasy\")\n",
    "plt.title(\"Sector-6 Shishu\",fontsize=25,family=\"fantasy\")\n",
    "\n",
    "\n",
    "plt.xticks(list(range(0,9)),list(range(1,10)),fontsize=17)\n",
    "plt.yticks(list(range(1,12)),list(range(1,12)),fontsize=17)\n",
    "plt.xlabel(\"Sabha Number\",fontsize=20)\n",
    "plt.ylabel(\"Present Balak\",fontsize=20)\n",
    "plt.show()\n"
   ]
  },
  {
   "cell_type": "code",
   "execution_count": 1,
   "metadata": {},
   "outputs": [],
   "source": [
    "# Sahajanand Namavali\n",
    "\n",
    "import pandas as pd\n",
    "\n",
    "data=[[\"Mira Road Bal\", 23, 4, 10 ],\n",
    "      [\"Poonam Nagar\", 8, 1, 1], \n",
    "      [\"Vijay Park\", 7, 0, 0], \n",
    "      [\"Shanti Vihar\", 10, 0, 0], \n",
    "      [\"Poonam Sagar\",16, 1, 0], \n",
    "      [\"Penkarpada\", 18, 2, 0],\n",
    "      [\"Sector-1\", 10, 0, 1],\n",
    "      [\"Sector-6\",6 , 0, 1],\n",
    "      [\"Plesant park\", 15 , 1, 0],\n",
    "      [\"Shishu-1\", 9, 0, 0],\n",
    "      [\"Shishu-2\", 7, 1, 0],\n",
    "      [\"Shishu-3\", 15, 3,0],\n",
    "      [\"Shanti Vihar Shishu\",8 , 0,0],\n",
    "      [\"Sector-6 Shishu\", 12, 0,0]]\n",
    "\n",
    "\n",
    "df = pd.DataFrame(data, columns = ['Sabha_Name', \"Sankhiya\", \"Name_108\", \"Name_50\"]) \n"
   ]
  },
  {
   "cell_type": "code",
   "execution_count": 13,
   "metadata": {},
   "outputs": [
    {
     "data": {
      "text/plain": [
       "Sabha_Name\n",
       "Mira Road Bal          23\n",
       "Poonam Nagar            8\n",
       "Vijay Park              7\n",
       "Shanti Vihar           10\n",
       "Poonam Sagar           16\n",
       "Penkarpada             18\n",
       "Sector-1               10\n",
       "Sector-6                6\n",
       "Plesant park           15\n",
       "Shishu-1                9\n",
       "Shishu-2                7\n",
       "Shishu-3               15\n",
       "Shanti Vihar Shishu     8\n",
       "Sector-6 Shishu        12\n",
       "Name: Sankhiya, dtype: int64"
      ]
     },
     "execution_count": 13,
     "metadata": {},
     "output_type": "execute_result"
    }
   ],
   "source": [
    "dfk = pd.DataFrame(data, columns = ['Sabha_Name', \"Sankhiya\", \"Name_108\", \"Name_50\"]) \n",
    "dfk.set_index('Sabha_Name',inplace=True)\n",
    "dfk['Sankhiya']"
   ]
  },
  {
   "cell_type": "code",
   "execution_count": 134,
   "metadata": {},
   "outputs": [],
   "source": [
    "Sankhiya= list(df.Sankhiya)\n",
    "Full_108 = list(df.Name_108)\n",
    "More_50 = list(df.Name_50)"
   ]
  },
  {
   "cell_type": "code",
   "execution_count": 188,
   "metadata": {},
   "outputs": [
    {
     "data": {
      "image/png": "[encoded data removed]",
      "text/plain": [
       "<Figure size 1080x720 with 1 Axes>"
      ]
     },
     "metadata": {},
     "output_type": "display_data"
    }
   ],
   "source": [
    "sns.set_style('white', {\"axes.facecolor\" : \"white\", \"color\":'white'})\n",
    "\n",
    "mandal=[\"Mira Road Bal\",\"Poonam Nagar\", \"Vijay Park\", \"Shanti Vihar\", \"Poonam Sagar\", \"Penkarpada\",\"Sector-1\", \n",
    "        \"Sector-6\", \"Pleasant park\", \"Mira Road Shishu-1\", \"Mira Road Shishu-2\", \"Mira Road Shishu-3\", \n",
    "        \"Shanti Vihar Shishu\", \"Sector-6 Shishu\"]\n",
    "\n",
    "\n",
    "df = pd.DataFrame({'Total Sankhiya': Sankhiya[10:],\n",
    "                   '108 Name': Full_108[10:],\n",
    "                  '50+ Name': More_50[10:]}, index=mandal[10:])\n",
    "ax = df.plot.barh(fontsize=14)\n",
    "\n",
    "for index, value in enumerate(Sankhiya[10:]):\n",
    "    plt.text(value+0.1, index-0.22, str(value),c='black',fontsize=13)\n",
    "for index, value in enumerate(Full_108[10:]):\n",
    "    plt.text(value+0.1, index-0.04, str(value),c='black',fontsize=13)\n",
    "for index, value in enumerate(More_50[10:]):\n",
    "    plt.text(value+0.1, index+0.14, str(value),c='black',fontsize=13)\n",
    "\n",
    "plt.title(\"Sahajanand Namavali\",fontsize=26,family=\"fantasy\")\n",
    "plt.xlabel(\"Balko\",fontsize=20,family=\"fantasy\")\n",
    "plt.ylabel(\"Mandal Name\",fontsize=20,family=\"fantasy\")\n",
    "plt.show()\n"
   ]
  },
  {
   "cell_type": "code",
   "execution_count": 217,
   "metadata": {},
   "outputs": [],
   "source": [
    "# SVP\n",
    "dtaa=[[\"Mira Road Bal\" , 23, 16, 7, 5],\n",
    "      [\"Poonam Nagar\"  , 8, 5, 2, 2], \n",
    "      [\"Vijay Park\"    , 7, 5, 2, 2], \n",
    "      [\"Shanti Vihar\"  , 10, 4, 1, 1], \n",
    "      [\"Poonam Sagar\"  , 16, 8, 1, 3], \n",
    "      [\"Penkarpada\"    , 18, 2, 1, 0],\n",
    "      [\"Sector-1\"      , 10, 3, 2, 0],\n",
    "      [\"Sector-6\"      ,6 , 3, 0, 0 ],\n",
    "      [\"Plesant park\"  , 15 , 5, 4, 1]]\n",
    "\n",
    "dff = pd.DataFrame(dtaa, columns = ['Sabha_Name', \"Sankhiya\", \"Aapnar\",\"Name_108\", \"Name_50\"]) "
   ]
  },
  {
   "cell_type": "code",
   "execution_count": 200,
   "metadata": {},
   "outputs": [],
   "source": [
    "Sankhiya= list(dff.Sankhiya)\n",
    "Aapnar=list(dff.Aapnar)\n",
    "Full_108 = list(dff.Name_108)\n",
    "More_50 = list(dff.Name_50)"
   ]
  },
  {
   "cell_type": "code",
   "execution_count": 220,
   "metadata": {},
   "outputs": [
    {
     "data": {
      "image/png": "[encoded data removed]",
      "text/plain": [
       "<Figure size 1080x720 with 1 Axes>"
      ]
     },
     "metadata": {},
     "output_type": "display_data"
    }
   ],
   "source": [
    "sns.set_style('white', {\"axes.facecolor\" : \"white\", \"color\":'white'})\n",
    "\n",
    "mandal=[\"Mira Road Bal\",\"Poonam Nagar\", \"Vijay Park\", \"Shanti Vihar\", \"Poonam Sagar\", \"Penkarpada\",\"Sector-1\", \n",
    "        \"Sector-6\", \"Pleasant park\"]\n",
    "\n",
    "\n",
    "df = pd.DataFrame({'Total Sankhiya': Sankhiya[5:],\n",
    "                   'Exam Denara': Aapnar[5:],\n",
    "                   '80+ Marks': Full_108[5:], \n",
    "                  '50+ Marks': More_50[5:]}, index=mandal[5:])\n",
    "ax = df.plot.barh(fontsize=14)\n",
    "\n",
    "for index, value in enumerate(Sankhiya[5:]):\n",
    "    plt.text(value+0.1, index-0.23, str(value),c='black',fontsize=13)\n",
    "for index, value in enumerate(Aapnar[5:]):\n",
    "    plt.text(value+0.1, index-0.107, str(value),c='black',fontsize=13)\n",
    "for index, value in enumerate(Full_108[5:]):\n",
    "    plt.text(value+0.1, index+0.015, str(value),c='black',fontsize=13)\n",
    "for index, value in enumerate(More_50[5:]):\n",
    "    plt.text(value+0.1, index+0.14, str(value),c='black',fontsize=13)\n",
    "\n",
    "plt.title(\"SVP Bal\",fontsize=26,family=\"fantasy\")\n",
    "plt.xlabel(\"Balko\",fontsize=20,family=\"fantasy\")\n",
    "plt.ylabel(\"Mandal Name\",fontsize=20,family=\"fantasy\")\n",
    "plt.show()\n"
   ]
  },
  {
   "cell_type": "code",
   "execution_count": null,
   "metadata": {},
   "outputs": [],
   "source": []
  }
 ],
 "metadata": {
  "kernelspec": {
   "display_name": "Python 3",
   "language": "python",
   "name": "python3"
  },
  "language_info": {
   "codemirror_mode": {
    "name": "ipython",
    "version": 3
   },
   "file_extension": ".py",
   "mimetype": "text/x-python",
   "name": "python",
   "nbconvert_exporter": "python",
   "pygments_lexer": "ipython3",
   "version": "3.7.4"
  }
 },
 "nbformat": 4,
 "nbformat_minor": 2
}
