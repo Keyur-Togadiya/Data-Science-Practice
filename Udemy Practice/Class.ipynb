{
 "cells": [
  {
   "cell_type": "code",
   "execution_count": 6,
   "metadata": {},
   "outputs": [
    {
     "name": "stdout",
     "output_type": "stream",
     "text": [
      "I am a Method\n"
     ]
    }
   ],
   "source": [
    "class KT:\n",
    "    def show(self):\n",
    "        print(\"I am a Method\")\n",
    "        \n",
    "x=KT()\n",
    "x.show()"
   ]
  },
  {
   "cell_type": "code",
   "execution_count": 29,
   "metadata": {},
   "outputs": [
    {
     "name": "stdout",
     "output_type": "stream",
     "text": [
      "Model:  50 \n",
      "Price:  200\n"
     ]
    }
   ],
   "source": [
    "class Mobile:\n",
    "    def __init__(self,m,k):\n",
    "        self.model=m\n",
    "        \n",
    "    def show_model_price(self,p=150):\n",
    "        print(\"Model: \", self.model,\"\\nPrice: \",p )\n",
    "        \n",
    "Nokia=Mobile(50,20)\n",
    "Nokia.show_model_price(200)\n",
    "        "
   ]
  },
  {
   "cell_type": "code",
   "execution_count": 30,
   "metadata": {},
   "outputs": [
    {
     "name": "stdout",
     "output_type": "stream",
     "text": [
      "Model:  30 \n",
      "Price:  200\n"
     ]
    }
   ],
   "source": [
    "class Mobile:\n",
    "    def __init__(self,m,k):\n",
    "        self.model=m-k\n",
    "        \n",
    "    def show_model_price(self,p=150):\n",
    "        print(\"Model: \", self.model,\"\\nPrice: \",p )\n",
    "        \n",
    "Nokia=Mobile(50,20)\n",
    "Nokia.show_model_price(200)"
   ]
  },
  {
   "cell_type": "code",
   "execution_count": 34,
   "metadata": {},
   "outputs": [
    {
     "name": "stdout",
     "output_type": "stream",
     "text": [
      "Model:  50 \n",
      "Price:  200\n",
      "1975278588552\n",
      "Model:  100X \n",
      "Price:  250\n",
      "1975278589960\n"
     ]
    }
   ],
   "source": [
    "class Mobile:\n",
    "    def __init__(self,m):\n",
    "        self.model=m\n",
    "        \n",
    "    def show_model_price(self,p=150):\n",
    "        print(\"Model: \", self.model,\"\\nPrice: \",p )\n",
    "        \n",
    "Nokia=Mobile(50)\n",
    "Nokia.show_model_price(200)\n",
    "print(id(Nokia))\n",
    "\n",
    "Realme=Mobile('100X')\n",
    "Realme.show_model_price(250)\n",
    "print(id(Realme))"
   ]
  },
  {
   "cell_type": "code",
   "execution_count": 35,
   "metadata": {},
   "outputs": [
    {
     "name": "stdout",
     "output_type": "stream",
     "text": [
      "Model:  50 \n",
      "Price:  200\n",
      "1975278588424\n",
      "Model:  50 \n",
      "Price:  200\n",
      "1975278619848\n"
     ]
    }
   ],
   "source": [
    "class Mobile:\n",
    "    def __init__(self,m):\n",
    "        self.model=m\n",
    "        \n",
    "    def show_model_price(self,p=150):\n",
    "        print(\"Model: \", self.model,\"\\nPrice: \",p )\n",
    "        \n",
    "Nokia=Mobile(50)\n",
    "Nokia.show_model_price(200)\n",
    "print(id(Nokia))\n",
    "\n",
    "Realme=Mobile(50)\n",
    "Realme.show_model_price(200)\n",
    "print(id(Realme))"
   ]
  },
  {
   "cell_type": "code",
   "execution_count": 1,
   "metadata": {},
   "outputs": [
    {
     "name": "stdout",
     "output_type": "stream",
     "text": [
      "The Zen of Python, by Tim Peters\n",
      "\n",
      "Beautiful is better than ugly.\n",
      "Explicit is better than implicit.\n",
      "Simple is better than complex.\n",
      "Complex is better than complicated.\n",
      "Flat is better than nested.\n",
      "Sparse is better than dense.\n",
      "Readability counts.\n",
      "Special cases aren't special enough to break the rules.\n",
      "Although practicality beats purity.\n",
      "Errors should never pass silently.\n",
      "Unless explicitly silenced.\n",
      "In the face of ambiguity, refuse the temptation to guess.\n",
      "There should be one-- and preferably only one --obvious way to do it.\n",
      "Although that way may not be obvious at first unless you're Dutch.\n",
      "Now is better than never.\n",
      "Although never is often better than *right* now.\n",
      "If the implementation is hard to explain, it's a bad idea.\n",
      "If the implementation is easy to explain, it may be a good idea.\n",
      "Namespaces are one honking great idea -- let's do more of those!\n"
     ]
    }
   ],
   "source": [
    "import this"
   ]
  },
  {
   "cell_type": "code",
   "execution_count": null,
   "metadata": {},
   "outputs": [],
   "source": []
  }
 ],
 "metadata": {
  "kernelspec": {
   "display_name": "Python 3",
   "language": "python",
   "name": "python3"
  },
  "language_info": {
   "codemirror_mode": {
    "name": "ipython",
    "version": 3
   },
   "file_extension": ".py",
   "mimetype": "text/x-python",
   "name": "python",
   "nbconvert_exporter": "python",
   "pygments_lexer": "ipython3",
   "version": "3.7.4"
  }
 },
 "nbformat": 4,
 "nbformat_minor": 2
}
